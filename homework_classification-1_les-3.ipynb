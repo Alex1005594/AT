{
 "cells": [
  {
   "cell_type": "markdown",
   "metadata": {
    "colab_type": "text",
    "id": "gyHxysn44I-z"
   },
   "source": [
    "# Урок 3. Деревья решений.\n",
    "\n",
    "В уроках мы разбирали на небольшом наборе данных деревья решений без настройки гиперпараметров. Здесь предлагаем вам рассмотреть работу классификатора на более сложном датасете, применив настройку гиперпараметров."
   ]
  },
  {
   "cell_type": "markdown",
   "metadata": {
    "colab_type": "text",
    "id": "ie9fI_rI4I-1"
   },
   "source": [
    "### 1.\n",
    "На датасете из предыдущего урока - load_wine() - обучите дерево решений (DecisionTreeClassifier)."
   ]
  },
  {
   "cell_type": "markdown",
   "metadata": {
    "colab_type": "text",
    "id": "Fz-HWZqk4I-2"
   },
   "source": [
    "*Примечание: при установке гиперпараметров модели и разбиении на тренировочный и тестовый датасеты используйте random_state=17 для воспроизводимости результатов.*"
   ]
  },
  {
   "cell_type": "code",
   "execution_count": 2,
   "metadata": {
    "colab": {},
    "colab_type": "code",
    "id": "XdWEqtdn4I-4"
   },
   "outputs": [],
   "source": [
    "from sklearn.datasets import load_wine\n",
    "from sklearn.tree import DecisionTreeClassifier\n",
    "from sklearn.model_selection import train_test_split"
   ]
  },
  {
   "cell_type": "code",
   "execution_count": 3,
   "metadata": {
    "colab": {},
    "colab_type": "code",
    "id": "Pvq2DSbA4I-7"
   },
   "outputs": [],
   "source": [
    "### YOUR CODE HERE ###\n",
    "features=load_wine().data\n",
    "target=load_wine().target\n",
    "x_train, x_test, y_train, y_test = train_test_split(features, target, random_state=17)"
   ]
  },
  {
   "cell_type": "code",
   "execution_count": 4,
   "metadata": {},
   "outputs": [
    {
     "data": {
      "text/plain": [
       "{'data': array([[1.423e+01, 1.710e+00, 2.430e+00, ..., 1.040e+00, 3.920e+00,\n",
       "         1.065e+03],\n",
       "        [1.320e+01, 1.780e+00, 2.140e+00, ..., 1.050e+00, 3.400e+00,\n",
       "         1.050e+03],\n",
       "        [1.316e+01, 2.360e+00, 2.670e+00, ..., 1.030e+00, 3.170e+00,\n",
       "         1.185e+03],\n",
       "        ...,\n",
       "        [1.327e+01, 4.280e+00, 2.260e+00, ..., 5.900e-01, 1.560e+00,\n",
       "         8.350e+02],\n",
       "        [1.317e+01, 2.590e+00, 2.370e+00, ..., 6.000e-01, 1.620e+00,\n",
       "         8.400e+02],\n",
       "        [1.413e+01, 4.100e+00, 2.740e+00, ..., 6.100e-01, 1.600e+00,\n",
       "         5.600e+02]]),\n",
       " 'target': array([0, 0, 0, 0, 0, 0, 0, 0, 0, 0, 0, 0, 0, 0, 0, 0, 0, 0, 0, 0, 0, 0,\n",
       "        0, 0, 0, 0, 0, 0, 0, 0, 0, 0, 0, 0, 0, 0, 0, 0, 0, 0, 0, 0, 0, 0,\n",
       "        0, 0, 0, 0, 0, 0, 0, 0, 0, 0, 0, 0, 0, 0, 0, 1, 1, 1, 1, 1, 1, 1,\n",
       "        1, 1, 1, 1, 1, 1, 1, 1, 1, 1, 1, 1, 1, 1, 1, 1, 1, 1, 1, 1, 1, 1,\n",
       "        1, 1, 1, 1, 1, 1, 1, 1, 1, 1, 1, 1, 1, 1, 1, 1, 1, 1, 1, 1, 1, 1,\n",
       "        1, 1, 1, 1, 1, 1, 1, 1, 1, 1, 1, 1, 1, 1, 1, 1, 1, 1, 1, 1, 2, 2,\n",
       "        2, 2, 2, 2, 2, 2, 2, 2, 2, 2, 2, 2, 2, 2, 2, 2, 2, 2, 2, 2, 2, 2,\n",
       "        2, 2, 2, 2, 2, 2, 2, 2, 2, 2, 2, 2, 2, 2, 2, 2, 2, 2, 2, 2, 2, 2,\n",
       "        2, 2]),\n",
       " 'target_names': array(['class_0', 'class_1', 'class_2'], dtype='<U7'),\n",
       " 'DESCR': '.. _wine_dataset:\\n\\nWine recognition dataset\\n------------------------\\n\\n**Data Set Characteristics:**\\n\\n    :Number of Instances: 178 (50 in each of three classes)\\n    :Number of Attributes: 13 numeric, predictive attributes and the class\\n    :Attribute Information:\\n \\t\\t- Alcohol\\n \\t\\t- Malic acid\\n \\t\\t- Ash\\n\\t\\t- Alcalinity of ash  \\n \\t\\t- Magnesium\\n\\t\\t- Total phenols\\n \\t\\t- Flavanoids\\n \\t\\t- Nonflavanoid phenols\\n \\t\\t- Proanthocyanins\\n\\t\\t- Color intensity\\n \\t\\t- Hue\\n \\t\\t- OD280/OD315 of diluted wines\\n \\t\\t- Proline\\n\\n    - class:\\n            - class_0\\n            - class_1\\n            - class_2\\n\\t\\t\\n    :Summary Statistics:\\n    \\n    ============================= ==== ===== ======= =====\\n                                   Min   Max   Mean     SD\\n    ============================= ==== ===== ======= =====\\n    Alcohol:                      11.0  14.8    13.0   0.8\\n    Malic Acid:                   0.74  5.80    2.34  1.12\\n    Ash:                          1.36  3.23    2.36  0.27\\n    Alcalinity of Ash:            10.6  30.0    19.5   3.3\\n    Magnesium:                    70.0 162.0    99.7  14.3\\n    Total Phenols:                0.98  3.88    2.29  0.63\\n    Flavanoids:                   0.34  5.08    2.03  1.00\\n    Nonflavanoid Phenols:         0.13  0.66    0.36  0.12\\n    Proanthocyanins:              0.41  3.58    1.59  0.57\\n    Colour Intensity:              1.3  13.0     5.1   2.3\\n    Hue:                          0.48  1.71    0.96  0.23\\n    OD280/OD315 of diluted wines: 1.27  4.00    2.61  0.71\\n    Proline:                       278  1680     746   315\\n    ============================= ==== ===== ======= =====\\n\\n    :Missing Attribute Values: None\\n    :Class Distribution: class_0 (59), class_1 (71), class_2 (48)\\n    :Creator: R.A. Fisher\\n    :Donor: Michael Marshall (MARSHALL%PLU@io.arc.nasa.gov)\\n    :Date: July, 1988\\n\\nThis is a copy of UCI ML Wine recognition datasets.\\nhttps://archive.ics.uci.edu/ml/machine-learning-databases/wine/wine.data\\n\\nThe data is the results of a chemical analysis of wines grown in the same\\nregion in Italy by three different cultivators. There are thirteen different\\nmeasurements taken for different constituents found in the three types of\\nwine.\\n\\nOriginal Owners: \\n\\nForina, M. et al, PARVUS - \\nAn Extendible Package for Data Exploration, Classification and Correlation. \\nInstitute of Pharmaceutical and Food Analysis and Technologies,\\nVia Brigata Salerno, 16147 Genoa, Italy.\\n\\nCitation:\\n\\nLichman, M. (2013). UCI Machine Learning Repository\\n[https://archive.ics.uci.edu/ml]. Irvine, CA: University of California,\\nSchool of Information and Computer Science. \\n\\n.. topic:: References\\n\\n  (1) S. Aeberhard, D. Coomans and O. de Vel, \\n  Comparison of Classifiers in High Dimensional Settings, \\n  Tech. Rep. no. 92-02, (1992), Dept. of Computer Science and Dept. of  \\n  Mathematics and Statistics, James Cook University of North Queensland. \\n  (Also submitted to Technometrics). \\n\\n  The data was used with many others for comparing various \\n  classifiers. The classes are separable, though only RDA \\n  has achieved 100% correct classification. \\n  (RDA : 100%, QDA 99.4%, LDA 98.9%, 1NN 96.1% (z-transformed data)) \\n  (All results using the leave-one-out technique) \\n\\n  (2) S. Aeberhard, D. Coomans and O. de Vel, \\n  \"THE CLASSIFICATION PERFORMANCE OF RDA\" \\n  Tech. Rep. no. 92-01, (1992), Dept. of Computer Science and Dept. of \\n  Mathematics and Statistics, James Cook University of North Queensland. \\n  (Also submitted to Journal of Chemometrics).\\n',\n",
       " 'feature_names': ['alcohol',\n",
       "  'malic_acid',\n",
       "  'ash',\n",
       "  'alcalinity_of_ash',\n",
       "  'magnesium',\n",
       "  'total_phenols',\n",
       "  'flavanoids',\n",
       "  'nonflavanoid_phenols',\n",
       "  'proanthocyanins',\n",
       "  'color_intensity',\n",
       "  'hue',\n",
       "  'od280/od315_of_diluted_wines',\n",
       "  'proline']}"
      ]
     },
     "execution_count": 4,
     "metadata": {},
     "output_type": "execute_result"
    }
   ],
   "source": [
    "load_wine()"
   ]
  },
  {
   "cell_type": "markdown",
   "metadata": {
    "colab_type": "text",
    "id": "Lsp2IelB4I-9"
   },
   "source": [
    "### 2.\n",
    "Отобразите дерево с помощью библиотеки graphviz.\n",
    "\n",
    "*Примечание: если, изучая урок, вы не установили библиотеку graphviz, то необходимо сделать это сейчас.*"
   ]
  },
  {
   "cell_type": "code",
   "execution_count": 5,
   "metadata": {
    "colab": {},
    "colab_type": "code",
    "id": "nZhmh4K94I-_"
   },
   "outputs": [],
   "source": [
    "from sklearn import tree\n",
    "import graphviz"
   ]
  },
  {
   "cell_type": "code",
   "execution_count": 6,
   "metadata": {
    "colab": {},
    "colab_type": "code",
    "id": "xb-TBuRW4I_B"
   },
   "outputs": [],
   "source": [
    "### YOUR CODE HERE ###\n",
    "dtc = DecisionTreeClassifier().fit(x_train,y_train)"
   ]
  },
  {
   "cell_type": "code",
   "execution_count": 7,
   "metadata": {
    "cell_style": "center"
   },
   "outputs": [
    {
     "data": {
      "image/svg+xml": [
       "<?xml version=\"1.0\" encoding=\"UTF-8\" standalone=\"no\"?>\r\n",
       "<!DOCTYPE svg PUBLIC \"-//W3C//DTD SVG 1.1//EN\"\r\n",
       " \"http://www.w3.org/Graphics/SVG/1.1/DTD/svg11.dtd\">\r\n",
       "<!-- Generated by graphviz version 2.38.0 (20140413.2041)\r\n",
       " -->\r\n",
       "<!-- Title: Tree Pages: 1 -->\r\n",
       "<svg width=\"1038pt\" height=\"671pt\"\r\n",
       " viewBox=\"0.00 0.00 1037.50 671.00\" xmlns=\"http://www.w3.org/2000/svg\" xmlns:xlink=\"http://www.w3.org/1999/xlink\">\r\n",
       "<g id=\"graph0\" class=\"graph\" transform=\"scale(1 1) rotate(0) translate(4 667)\">\r\n",
       "<title>Tree</title>\r\n",
       "<polygon fill=\"white\" stroke=\"none\" points=\"-4,4 -4,-667 1033.5,-667 1033.5,4 -4,4\"/>\r\n",
       "<!-- 0 -->\r\n",
       "<g id=\"node1\" class=\"node\"><title>0</title>\r\n",
       "<polygon fill=\"#fafefc\" stroke=\"black\" points=\"584.5,-663 459.5,-663 459.5,-580 584.5,-580 584.5,-663\"/>\r\n",
       "<text text-anchor=\"middle\" x=\"522\" y=\"-647.8\" font-family=\"Times New Roman,serif\" font-size=\"14.00\">proline &lt;= 755.0</text>\r\n",
       "<text text-anchor=\"middle\" x=\"522\" y=\"-632.8\" font-family=\"Times New Roman,serif\" font-size=\"14.00\">gini = 0.651</text>\r\n",
       "<text text-anchor=\"middle\" x=\"522\" y=\"-617.8\" font-family=\"Times New Roman,serif\" font-size=\"14.00\">samples = 133</text>\r\n",
       "<text text-anchor=\"middle\" x=\"522\" y=\"-602.8\" font-family=\"Times New Roman,serif\" font-size=\"14.00\">value = [50, 52, 31]</text>\r\n",
       "<text text-anchor=\"middle\" x=\"522\" y=\"-587.8\" font-family=\"Times New Roman,serif\" font-size=\"14.00\">class = class_1</text>\r\n",
       "</g>\r\n",
       "<!-- 1 -->\r\n",
       "<g id=\"node2\" class=\"node\"><title>1</title>\r\n",
       "<polygon fill=\"#acf4ca\" stroke=\"black\" points=\"463.5,-544 316.5,-544 316.5,-461 463.5,-461 463.5,-544\"/>\r\n",
       "<text text-anchor=\"middle\" x=\"390\" y=\"-528.8\" font-family=\"Times New Roman,serif\" font-size=\"14.00\">color_intensity &lt;= 4.85</text>\r\n",
       "<text text-anchor=\"middle\" x=\"390\" y=\"-513.8\" font-family=\"Times New Roman,serif\" font-size=\"14.00\">gini = 0.488</text>\r\n",
       "<text text-anchor=\"middle\" x=\"390\" y=\"-498.8\" font-family=\"Times New Roman,serif\" font-size=\"14.00\">samples = 77</text>\r\n",
       "<text text-anchor=\"middle\" x=\"390\" y=\"-483.8\" font-family=\"Times New Roman,serif\" font-size=\"14.00\">value = [2, 48, 27]</text>\r\n",
       "<text text-anchor=\"middle\" x=\"390\" y=\"-468.8\" font-family=\"Times New Roman,serif\" font-size=\"14.00\">class = class_1</text>\r\n",
       "</g>\r\n",
       "<!-- 0&#45;&gt;1 -->\r\n",
       "<g id=\"edge1\" class=\"edge\"><title>0&#45;&gt;1</title>\r\n",
       "<path fill=\"none\" stroke=\"black\" d=\"M476.203,-579.907C465.658,-570.56 454.35,-560.538 443.509,-550.929\"/>\r\n",
       "<polygon fill=\"black\" stroke=\"black\" points=\"445.521,-548.035 435.716,-544.021 440.878,-553.273 445.521,-548.035\"/>\r\n",
       "<text text-anchor=\"middle\" x=\"437.219\" y=\"-565.276\" font-family=\"Times New Roman,serif\" font-size=\"14.00\">True</text>\r\n",
       "</g>\r\n",
       "<!-- 14 -->\r\n",
       "<g id=\"node15\" class=\"node\"><title>14</title>\r\n",
       "<polygon fill=\"#e99457\" stroke=\"black\" points=\"720,-544 592,-544 592,-461 720,-461 720,-544\"/>\r\n",
       "<text text-anchor=\"middle\" x=\"656\" y=\"-528.8\" font-family=\"Times New Roman,serif\" font-size=\"14.00\">flavanoids &lt;= 2.165</text>\r\n",
       "<text text-anchor=\"middle\" x=\"656\" y=\"-513.8\" font-family=\"Times New Roman,serif\" font-size=\"14.00\">gini = 0.255</text>\r\n",
       "<text text-anchor=\"middle\" x=\"656\" y=\"-498.8\" font-family=\"Times New Roman,serif\" font-size=\"14.00\">samples = 56</text>\r\n",
       "<text text-anchor=\"middle\" x=\"656\" y=\"-483.8\" font-family=\"Times New Roman,serif\" font-size=\"14.00\">value = [48, 4, 4]</text>\r\n",
       "<text text-anchor=\"middle\" x=\"656\" y=\"-468.8\" font-family=\"Times New Roman,serif\" font-size=\"14.00\">class = class_0</text>\r\n",
       "</g>\r\n",
       "<!-- 0&#45;&gt;14 -->\r\n",
       "<g id=\"edge14\" class=\"edge\"><title>0&#45;&gt;14</title>\r\n",
       "<path fill=\"none\" stroke=\"black\" d=\"M568.491,-579.907C579.3,-570.469 590.898,-560.343 602,-550.649\"/>\r\n",
       "<polygon fill=\"black\" stroke=\"black\" points=\"604.361,-553.234 609.592,-544.021 599.757,-547.961 604.361,-553.234\"/>\r\n",
       "<text text-anchor=\"middle\" x=\"607.902\" y=\"-565.264\" font-family=\"Times New Roman,serif\" font-size=\"14.00\">False</text>\r\n",
       "</g>\r\n",
       "<!-- 2 -->\r\n",
       "<g id=\"node3\" class=\"node\"><title>2</title>\r\n",
       "<polygon fill=\"#4ae78c\" stroke=\"black\" points=\"255.5,-425 136.5,-425 136.5,-342 255.5,-342 255.5,-425\"/>\r\n",
       "<text text-anchor=\"middle\" x=\"196\" y=\"-409.8\" font-family=\"Times New Roman,serif\" font-size=\"14.00\">alcohol &lt;= 13.145</text>\r\n",
       "<text text-anchor=\"middle\" x=\"196\" y=\"-394.8\" font-family=\"Times New Roman,serif\" font-size=\"14.00\">gini = 0.153</text>\r\n",
       "<text text-anchor=\"middle\" x=\"196\" y=\"-379.8\" font-family=\"Times New Roman,serif\" font-size=\"14.00\">samples = 49</text>\r\n",
       "<text text-anchor=\"middle\" x=\"196\" y=\"-364.8\" font-family=\"Times New Roman,serif\" font-size=\"14.00\">value = [2, 45, 2]</text>\r\n",
       "<text text-anchor=\"middle\" x=\"196\" y=\"-349.8\" font-family=\"Times New Roman,serif\" font-size=\"14.00\">class = class_1</text>\r\n",
       "</g>\r\n",
       "<!-- 1&#45;&gt;2 -->\r\n",
       "<g id=\"edge2\" class=\"edge\"><title>1&#45;&gt;2</title>\r\n",
       "<path fill=\"none\" stroke=\"black\" d=\"M322.693,-460.907C303.807,-449.518 283.26,-437.126 264.316,-425.701\"/>\r\n",
       "<polygon fill=\"black\" stroke=\"black\" points=\"266.107,-422.694 255.737,-420.527 262.492,-428.688 266.107,-422.694\"/>\r\n",
       "</g>\r\n",
       "<!-- 9 -->\r\n",
       "<g id=\"node10\" class=\"node\"><title>9</title>\r\n",
       "<polygon fill=\"#9051e8\" stroke=\"black\" points=\"447.5,-425 332.5,-425 332.5,-342 447.5,-342 447.5,-425\"/>\r\n",
       "<text text-anchor=\"middle\" x=\"390\" y=\"-409.8\" font-family=\"Times New Roman,serif\" font-size=\"14.00\">flavanoids &lt;= 1.4</text>\r\n",
       "<text text-anchor=\"middle\" x=\"390\" y=\"-394.8\" font-family=\"Times New Roman,serif\" font-size=\"14.00\">gini = 0.191</text>\r\n",
       "<text text-anchor=\"middle\" x=\"390\" y=\"-379.8\" font-family=\"Times New Roman,serif\" font-size=\"14.00\">samples = 28</text>\r\n",
       "<text text-anchor=\"middle\" x=\"390\" y=\"-364.8\" font-family=\"Times New Roman,serif\" font-size=\"14.00\">value = [0, 3, 25]</text>\r\n",
       "<text text-anchor=\"middle\" x=\"390\" y=\"-349.8\" font-family=\"Times New Roman,serif\" font-size=\"14.00\">class = class_2</text>\r\n",
       "</g>\r\n",
       "<!-- 1&#45;&gt;9 -->\r\n",
       "<g id=\"edge9\" class=\"edge\"><title>1&#45;&gt;9</title>\r\n",
       "<path fill=\"none\" stroke=\"black\" d=\"M390,-460.907C390,-452.649 390,-443.864 390,-435.302\"/>\r\n",
       "<polygon fill=\"black\" stroke=\"black\" points=\"393.5,-435.021 390,-425.021 386.5,-435.021 393.5,-435.021\"/>\r\n",
       "</g>\r\n",
       "<!-- 3 -->\r\n",
       "<g id=\"node4\" class=\"node\"><title>3</title>\r\n",
       "<polygon fill=\"#39e581\" stroke=\"black\" points=\"112,-298.5 7.10543e-015,-298.5 7.10543e-015,-230.5 112,-230.5 112,-298.5\"/>\r\n",
       "<text text-anchor=\"middle\" x=\"56\" y=\"-283.3\" font-family=\"Times New Roman,serif\" font-size=\"14.00\">gini = 0.0</text>\r\n",
       "<text text-anchor=\"middle\" x=\"56\" y=\"-268.3\" font-family=\"Times New Roman,serif\" font-size=\"14.00\">samples = 41</text>\r\n",
       "<text text-anchor=\"middle\" x=\"56\" y=\"-253.3\" font-family=\"Times New Roman,serif\" font-size=\"14.00\">value = [0, 41, 0]</text>\r\n",
       "<text text-anchor=\"middle\" x=\"56\" y=\"-238.3\" font-family=\"Times New Roman,serif\" font-size=\"14.00\">class = class_1</text>\r\n",
       "</g>\r\n",
       "<!-- 2&#45;&gt;3 -->\r\n",
       "<g id=\"edge3\" class=\"edge\"><title>2&#45;&gt;3</title>\r\n",
       "<path fill=\"none\" stroke=\"black\" d=\"M147.428,-341.907C133.168,-329.99 117.595,-316.976 103.408,-305.12\"/>\r\n",
       "<polygon fill=\"black\" stroke=\"black\" points=\"105.605,-302.394 95.6869,-298.667 101.116,-307.765 105.605,-302.394\"/>\r\n",
       "</g>\r\n",
       "<!-- 4 -->\r\n",
       "<g id=\"node5\" class=\"node\"><title>4</title>\r\n",
       "<polygon fill=\"#bdf6d5\" stroke=\"black\" points=\"261.5,-306 130.5,-306 130.5,-223 261.5,-223 261.5,-306\"/>\r\n",
       "<text text-anchor=\"middle\" x=\"196\" y=\"-290.8\" font-family=\"Times New Roman,serif\" font-size=\"14.00\">malic_acid &lt;= 2.125</text>\r\n",
       "<text text-anchor=\"middle\" x=\"196\" y=\"-275.8\" font-family=\"Times New Roman,serif\" font-size=\"14.00\">gini = 0.625</text>\r\n",
       "<text text-anchor=\"middle\" x=\"196\" y=\"-260.8\" font-family=\"Times New Roman,serif\" font-size=\"14.00\">samples = 8</text>\r\n",
       "<text text-anchor=\"middle\" x=\"196\" y=\"-245.8\" font-family=\"Times New Roman,serif\" font-size=\"14.00\">value = [2, 4, 2]</text>\r\n",
       "<text text-anchor=\"middle\" x=\"196\" y=\"-230.8\" font-family=\"Times New Roman,serif\" font-size=\"14.00\">class = class_1</text>\r\n",
       "</g>\r\n",
       "<!-- 2&#45;&gt;4 -->\r\n",
       "<g id=\"edge4\" class=\"edge\"><title>2&#45;&gt;4</title>\r\n",
       "<path fill=\"none\" stroke=\"black\" d=\"M196,-341.907C196,-333.649 196,-324.864 196,-316.302\"/>\r\n",
       "<polygon fill=\"black\" stroke=\"black\" points=\"199.5,-316.021 196,-306.021 192.5,-316.021 199.5,-316.021\"/>\r\n",
       "</g>\r\n",
       "<!-- 5 -->\r\n",
       "<g id=\"node6\" class=\"node\"><title>5</title>\r\n",
       "<polygon fill=\"#39e581\" stroke=\"black\" points=\"143.5,-179.5 38.5,-179.5 38.5,-111.5 143.5,-111.5 143.5,-179.5\"/>\r\n",
       "<text text-anchor=\"middle\" x=\"91\" y=\"-164.3\" font-family=\"Times New Roman,serif\" font-size=\"14.00\">gini = 0.0</text>\r\n",
       "<text text-anchor=\"middle\" x=\"91\" y=\"-149.3\" font-family=\"Times New Roman,serif\" font-size=\"14.00\">samples = 4</text>\r\n",
       "<text text-anchor=\"middle\" x=\"91\" y=\"-134.3\" font-family=\"Times New Roman,serif\" font-size=\"14.00\">value = [0, 4, 0]</text>\r\n",
       "<text text-anchor=\"middle\" x=\"91\" y=\"-119.3\" font-family=\"Times New Roman,serif\" font-size=\"14.00\">class = class_1</text>\r\n",
       "</g>\r\n",
       "<!-- 4&#45;&gt;5 -->\r\n",
       "<g id=\"edge5\" class=\"edge\"><title>4&#45;&gt;5</title>\r\n",
       "<path fill=\"none\" stroke=\"black\" d=\"M159.571,-222.907C149.173,-211.321 137.844,-198.698 127.445,-187.111\"/>\r\n",
       "<polygon fill=\"black\" stroke=\"black\" points=\"130.049,-184.772 120.765,-179.667 124.839,-189.447 130.049,-184.772\"/>\r\n",
       "</g>\r\n",
       "<!-- 6 -->\r\n",
       "<g id=\"node7\" class=\"node\"><title>6</title>\r\n",
       "<polygon fill=\"#ffffff\" stroke=\"black\" points=\"302,-187 162,-187 162,-104 302,-104 302,-187\"/>\r\n",
       "<text text-anchor=\"middle\" x=\"232\" y=\"-171.8\" font-family=\"Times New Roman,serif\" font-size=\"14.00\">total_phenols &lt;= 2.32</text>\r\n",
       "<text text-anchor=\"middle\" x=\"232\" y=\"-156.8\" font-family=\"Times New Roman,serif\" font-size=\"14.00\">gini = 0.5</text>\r\n",
       "<text text-anchor=\"middle\" x=\"232\" y=\"-141.8\" font-family=\"Times New Roman,serif\" font-size=\"14.00\">samples = 4</text>\r\n",
       "<text text-anchor=\"middle\" x=\"232\" y=\"-126.8\" font-family=\"Times New Roman,serif\" font-size=\"14.00\">value = [2, 0, 2]</text>\r\n",
       "<text text-anchor=\"middle\" x=\"232\" y=\"-111.8\" font-family=\"Times New Roman,serif\" font-size=\"14.00\">class = class_0</text>\r\n",
       "</g>\r\n",
       "<!-- 4&#45;&gt;6 -->\r\n",
       "<g id=\"edge6\" class=\"edge\"><title>4&#45;&gt;6</title>\r\n",
       "<path fill=\"none\" stroke=\"black\" d=\"M208.49,-222.907C211.087,-214.468 213.853,-205.477 216.542,-196.738\"/>\r\n",
       "<polygon fill=\"black\" stroke=\"black\" points=\"219.936,-197.608 219.532,-187.021 213.246,-195.549 219.936,-197.608\"/>\r\n",
       "</g>\r\n",
       "<!-- 7 -->\r\n",
       "<g id=\"node8\" class=\"node\"><title>7</title>\r\n",
       "<polygon fill=\"#8139e5\" stroke=\"black\" points=\"222.5,-68 117.5,-68 117.5,-0 222.5,-0 222.5,-68\"/>\r\n",
       "<text text-anchor=\"middle\" x=\"170\" y=\"-52.8\" font-family=\"Times New Roman,serif\" font-size=\"14.00\">gini = 0.0</text>\r\n",
       "<text text-anchor=\"middle\" x=\"170\" y=\"-37.8\" font-family=\"Times New Roman,serif\" font-size=\"14.00\">samples = 2</text>\r\n",
       "<text text-anchor=\"middle\" x=\"170\" y=\"-22.8\" font-family=\"Times New Roman,serif\" font-size=\"14.00\">value = [0, 0, 2]</text>\r\n",
       "<text text-anchor=\"middle\" x=\"170\" y=\"-7.8\" font-family=\"Times New Roman,serif\" font-size=\"14.00\">class = class_2</text>\r\n",
       "</g>\r\n",
       "<!-- 6&#45;&gt;7 -->\r\n",
       "<g id=\"edge7\" class=\"edge\"><title>6&#45;&gt;7</title>\r\n",
       "<path fill=\"none\" stroke=\"black\" d=\"M208.913,-103.726C204.007,-95.0615 198.818,-85.8962 193.883,-77.1802\"/>\r\n",
       "<polygon fill=\"black\" stroke=\"black\" points=\"196.827,-75.277 188.855,-68.2996 190.736,-78.726 196.827,-75.277\"/>\r\n",
       "</g>\r\n",
       "<!-- 8 -->\r\n",
       "<g id=\"node9\" class=\"node\"><title>8</title>\r\n",
       "<polygon fill=\"#e58139\" stroke=\"black\" points=\"345.5,-68 240.5,-68 240.5,-0 345.5,-0 345.5,-68\"/>\r\n",
       "<text text-anchor=\"middle\" x=\"293\" y=\"-52.8\" font-family=\"Times New Roman,serif\" font-size=\"14.00\">gini = 0.0</text>\r\n",
       "<text text-anchor=\"middle\" x=\"293\" y=\"-37.8\" font-family=\"Times New Roman,serif\" font-size=\"14.00\">samples = 2</text>\r\n",
       "<text text-anchor=\"middle\" x=\"293\" y=\"-22.8\" font-family=\"Times New Roman,serif\" font-size=\"14.00\">value = [2, 0, 0]</text>\r\n",
       "<text text-anchor=\"middle\" x=\"293\" y=\"-7.8\" font-family=\"Times New Roman,serif\" font-size=\"14.00\">class = class_0</text>\r\n",
       "</g>\r\n",
       "<!-- 6&#45;&gt;8 -->\r\n",
       "<g id=\"edge8\" class=\"edge\"><title>6&#45;&gt;8</title>\r\n",
       "<path fill=\"none\" stroke=\"black\" d=\"M254.714,-103.726C259.541,-95.0615 264.647,-85.8962 269.502,-77.1802\"/>\r\n",
       "<polygon fill=\"black\" stroke=\"black\" points=\"272.64,-78.7389 274.45,-68.2996 266.525,-75.3322 272.64,-78.7389\"/>\r\n",
       "</g>\r\n",
       "<!-- 10 -->\r\n",
       "<g id=\"node11\" class=\"node\"><title>10</title>\r\n",
       "<polygon fill=\"#8139e5\" stroke=\"black\" points=\"392,-298.5 280,-298.5 280,-230.5 392,-230.5 392,-298.5\"/>\r\n",
       "<text text-anchor=\"middle\" x=\"336\" y=\"-283.3\" font-family=\"Times New Roman,serif\" font-size=\"14.00\">gini = 0.0</text>\r\n",
       "<text text-anchor=\"middle\" x=\"336\" y=\"-268.3\" font-family=\"Times New Roman,serif\" font-size=\"14.00\">samples = 24</text>\r\n",
       "<text text-anchor=\"middle\" x=\"336\" y=\"-253.3\" font-family=\"Times New Roman,serif\" font-size=\"14.00\">value = [0, 0, 24]</text>\r\n",
       "<text text-anchor=\"middle\" x=\"336\" y=\"-238.3\" font-family=\"Times New Roman,serif\" font-size=\"14.00\">class = class_2</text>\r\n",
       "</g>\r\n",
       "<!-- 9&#45;&gt;10 -->\r\n",
       "<g id=\"edge10\" class=\"edge\"><title>9&#45;&gt;10</title>\r\n",
       "<path fill=\"none\" stroke=\"black\" d=\"M371.265,-341.907C366.172,-330.873 360.645,-318.898 355.51,-307.773\"/>\r\n",
       "<polygon fill=\"black\" stroke=\"black\" points=\"358.676,-306.28 351.308,-298.667 352.321,-309.213 358.676,-306.28\"/>\r\n",
       "</g>\r\n",
       "<!-- 11 -->\r\n",
       "<g id=\"node12\" class=\"node\"><title>11</title>\r\n",
       "<polygon fill=\"#7beeab\" stroke=\"black\" points=\"529.5,-306 410.5,-306 410.5,-223 529.5,-223 529.5,-306\"/>\r\n",
       "<text text-anchor=\"middle\" x=\"470\" y=\"-290.8\" font-family=\"Times New Roman,serif\" font-size=\"14.00\">alcohol &lt;= 13.305</text>\r\n",
       "<text text-anchor=\"middle\" x=\"470\" y=\"-275.8\" font-family=\"Times New Roman,serif\" font-size=\"14.00\">gini = 0.375</text>\r\n",
       "<text text-anchor=\"middle\" x=\"470\" y=\"-260.8\" font-family=\"Times New Roman,serif\" font-size=\"14.00\">samples = 4</text>\r\n",
       "<text text-anchor=\"middle\" x=\"470\" y=\"-245.8\" font-family=\"Times New Roman,serif\" font-size=\"14.00\">value = [0, 3, 1]</text>\r\n",
       "<text text-anchor=\"middle\" x=\"470\" y=\"-230.8\" font-family=\"Times New Roman,serif\" font-size=\"14.00\">class = class_1</text>\r\n",
       "</g>\r\n",
       "<!-- 9&#45;&gt;11 -->\r\n",
       "<g id=\"edge11\" class=\"edge\"><title>9&#45;&gt;11</title>\r\n",
       "<path fill=\"none\" stroke=\"black\" d=\"M417.756,-341.907C423.837,-333.014 430.336,-323.509 436.611,-314.331\"/>\r\n",
       "<polygon fill=\"black\" stroke=\"black\" points=\"439.538,-316.251 442.293,-306.021 433.76,-312.3 439.538,-316.251\"/>\r\n",
       "</g>\r\n",
       "<!-- 12 -->\r\n",
       "<g id=\"node13\" class=\"node\"><title>12</title>\r\n",
       "<polygon fill=\"#39e581\" stroke=\"black\" points=\"461.5,-179.5 356.5,-179.5 356.5,-111.5 461.5,-111.5 461.5,-179.5\"/>\r\n",
       "<text text-anchor=\"middle\" x=\"409\" y=\"-164.3\" font-family=\"Times New Roman,serif\" font-size=\"14.00\">gini = 0.0</text>\r\n",
       "<text text-anchor=\"middle\" x=\"409\" y=\"-149.3\" font-family=\"Times New Roman,serif\" font-size=\"14.00\">samples = 3</text>\r\n",
       "<text text-anchor=\"middle\" x=\"409\" y=\"-134.3\" font-family=\"Times New Roman,serif\" font-size=\"14.00\">value = [0, 3, 0]</text>\r\n",
       "<text text-anchor=\"middle\" x=\"409\" y=\"-119.3\" font-family=\"Times New Roman,serif\" font-size=\"14.00\">class = class_1</text>\r\n",
       "</g>\r\n",
       "<!-- 11&#45;&gt;12 -->\r\n",
       "<g id=\"edge12\" class=\"edge\"><title>11&#45;&gt;12</title>\r\n",
       "<path fill=\"none\" stroke=\"black\" d=\"M448.836,-222.907C443.083,-211.873 436.84,-199.898 431.04,-188.773\"/>\r\n",
       "<polygon fill=\"black\" stroke=\"black\" points=\"434.019,-186.916 426.292,-179.667 427.812,-190.152 434.019,-186.916\"/>\r\n",
       "</g>\r\n",
       "<!-- 13 -->\r\n",
       "<g id=\"node14\" class=\"node\"><title>13</title>\r\n",
       "<polygon fill=\"#8139e5\" stroke=\"black\" points=\"584.5,-179.5 479.5,-179.5 479.5,-111.5 584.5,-111.5 584.5,-179.5\"/>\r\n",
       "<text text-anchor=\"middle\" x=\"532\" y=\"-164.3\" font-family=\"Times New Roman,serif\" font-size=\"14.00\">gini = 0.0</text>\r\n",
       "<text text-anchor=\"middle\" x=\"532\" y=\"-149.3\" font-family=\"Times New Roman,serif\" font-size=\"14.00\">samples = 1</text>\r\n",
       "<text text-anchor=\"middle\" x=\"532\" y=\"-134.3\" font-family=\"Times New Roman,serif\" font-size=\"14.00\">value = [0, 0, 1]</text>\r\n",
       "<text text-anchor=\"middle\" x=\"532\" y=\"-119.3\" font-family=\"Times New Roman,serif\" font-size=\"14.00\">class = class_2</text>\r\n",
       "</g>\r\n",
       "<!-- 11&#45;&gt;13 -->\r\n",
       "<g id=\"edge13\" class=\"edge\"><title>11&#45;&gt;13</title>\r\n",
       "<path fill=\"none\" stroke=\"black\" d=\"M491.511,-222.907C497.358,-211.873 503.704,-199.898 509.599,-188.773\"/>\r\n",
       "<polygon fill=\"black\" stroke=\"black\" points=\"512.835,-190.142 514.424,-179.667 506.649,-186.864 512.835,-190.142\"/>\r\n",
       "</g>\r\n",
       "<!-- 15 -->\r\n",
       "<g id=\"node16\" class=\"node\"><title>15</title>\r\n",
       "<polygon fill=\"#c09cf2\" stroke=\"black\" points=\"708.5,-425 603.5,-425 603.5,-342 708.5,-342 708.5,-425\"/>\r\n",
       "<text text-anchor=\"middle\" x=\"656\" y=\"-409.8\" font-family=\"Times New Roman,serif\" font-size=\"14.00\">hue &lt;= 0.803</text>\r\n",
       "<text text-anchor=\"middle\" x=\"656\" y=\"-394.8\" font-family=\"Times New Roman,serif\" font-size=\"14.00\">gini = 0.444</text>\r\n",
       "<text text-anchor=\"middle\" x=\"656\" y=\"-379.8\" font-family=\"Times New Roman,serif\" font-size=\"14.00\">samples = 6</text>\r\n",
       "<text text-anchor=\"middle\" x=\"656\" y=\"-364.8\" font-family=\"Times New Roman,serif\" font-size=\"14.00\">value = [0, 2, 4]</text>\r\n",
       "<text text-anchor=\"middle\" x=\"656\" y=\"-349.8\" font-family=\"Times New Roman,serif\" font-size=\"14.00\">class = class_2</text>\r\n",
       "</g>\r\n",
       "<!-- 14&#45;&gt;15 -->\r\n",
       "<g id=\"edge15\" class=\"edge\"><title>14&#45;&gt;15</title>\r\n",
       "<path fill=\"none\" stroke=\"black\" d=\"M656,-460.907C656,-452.649 656,-443.864 656,-435.302\"/>\r\n",
       "<polygon fill=\"black\" stroke=\"black\" points=\"659.5,-435.021 656,-425.021 652.5,-435.021 659.5,-435.021\"/>\r\n",
       "</g>\r\n",
       "<!-- 18 -->\r\n",
       "<g id=\"node19\" class=\"node\"><title>18</title>\r\n",
       "<polygon fill=\"#e68641\" stroke=\"black\" points=\"917,-425 783,-425 783,-342 917,-342 917,-425\"/>\r\n",
       "<text text-anchor=\"middle\" x=\"850\" y=\"-409.8\" font-family=\"Times New Roman,serif\" font-size=\"14.00\">magnesium &lt;= 135.5</text>\r\n",
       "<text text-anchor=\"middle\" x=\"850\" y=\"-394.8\" font-family=\"Times New Roman,serif\" font-size=\"14.00\">gini = 0.077</text>\r\n",
       "<text text-anchor=\"middle\" x=\"850\" y=\"-379.8\" font-family=\"Times New Roman,serif\" font-size=\"14.00\">samples = 50</text>\r\n",
       "<text text-anchor=\"middle\" x=\"850\" y=\"-364.8\" font-family=\"Times New Roman,serif\" font-size=\"14.00\">value = [48, 2, 0]</text>\r\n",
       "<text text-anchor=\"middle\" x=\"850\" y=\"-349.8\" font-family=\"Times New Roman,serif\" font-size=\"14.00\">class = class_0</text>\r\n",
       "</g>\r\n",
       "<!-- 14&#45;&gt;18 -->\r\n",
       "<g id=\"edge18\" class=\"edge\"><title>14&#45;&gt;18</title>\r\n",
       "<path fill=\"none\" stroke=\"black\" d=\"M720.061,-462.866C737.323,-452.455 756.164,-441.092 774.009,-430.33\"/>\r\n",
       "<polygon fill=\"black\" stroke=\"black\" points=\"775.922,-433.263 782.678,-425.102 772.307,-427.269 775.922,-433.263\"/>\r\n",
       "</g>\r\n",
       "<!-- 16 -->\r\n",
       "<g id=\"node17\" class=\"node\"><title>16</title>\r\n",
       "<polygon fill=\"#8139e5\" stroke=\"black\" points=\"652.5,-298.5 547.5,-298.5 547.5,-230.5 652.5,-230.5 652.5,-298.5\"/>\r\n",
       "<text text-anchor=\"middle\" x=\"600\" y=\"-283.3\" font-family=\"Times New Roman,serif\" font-size=\"14.00\">gini = 0.0</text>\r\n",
       "<text text-anchor=\"middle\" x=\"600\" y=\"-268.3\" font-family=\"Times New Roman,serif\" font-size=\"14.00\">samples = 4</text>\r\n",
       "<text text-anchor=\"middle\" x=\"600\" y=\"-253.3\" font-family=\"Times New Roman,serif\" font-size=\"14.00\">value = [0, 0, 4]</text>\r\n",
       "<text text-anchor=\"middle\" x=\"600\" y=\"-238.3\" font-family=\"Times New Roman,serif\" font-size=\"14.00\">class = class_2</text>\r\n",
       "</g>\r\n",
       "<!-- 15&#45;&gt;16 -->\r\n",
       "<g id=\"edge16\" class=\"edge\"><title>15&#45;&gt;16</title>\r\n",
       "<path fill=\"none\" stroke=\"black\" d=\"M636.571,-341.907C631.29,-330.873 625.558,-318.898 620.233,-307.773\"/>\r\n",
       "<polygon fill=\"black\" stroke=\"black\" points=\"623.349,-306.176 615.875,-298.667 617.035,-309.198 623.349,-306.176\"/>\r\n",
       "</g>\r\n",
       "<!-- 17 -->\r\n",
       "<g id=\"node18\" class=\"node\"><title>17</title>\r\n",
       "<polygon fill=\"#39e581\" stroke=\"black\" points=\"775.5,-298.5 670.5,-298.5 670.5,-230.5 775.5,-230.5 775.5,-298.5\"/>\r\n",
       "<text text-anchor=\"middle\" x=\"723\" y=\"-283.3\" font-family=\"Times New Roman,serif\" font-size=\"14.00\">gini = 0.0</text>\r\n",
       "<text text-anchor=\"middle\" x=\"723\" y=\"-268.3\" font-family=\"Times New Roman,serif\" font-size=\"14.00\">samples = 2</text>\r\n",
       "<text text-anchor=\"middle\" x=\"723\" y=\"-253.3\" font-family=\"Times New Roman,serif\" font-size=\"14.00\">value = [0, 2, 0]</text>\r\n",
       "<text text-anchor=\"middle\" x=\"723\" y=\"-238.3\" font-family=\"Times New Roman,serif\" font-size=\"14.00\">class = class_1</text>\r\n",
       "</g>\r\n",
       "<!-- 15&#45;&gt;17 -->\r\n",
       "<g id=\"edge17\" class=\"edge\"><title>15&#45;&gt;17</title>\r\n",
       "<path fill=\"none\" stroke=\"black\" d=\"M679.245,-341.907C685.627,-330.763 692.559,-318.658 698.984,-307.439\"/>\r\n",
       "<polygon fill=\"black\" stroke=\"black\" points=\"702.075,-309.084 704.007,-298.667 696,-305.606 702.075,-309.084\"/>\r\n",
       "</g>\r\n",
       "<!-- 19 -->\r\n",
       "<g id=\"node20\" class=\"node\"><title>19</title>\r\n",
       "<polygon fill=\"#e58139\" stroke=\"black\" points=\"906,-298.5 794,-298.5 794,-230.5 906,-230.5 906,-298.5\"/>\r\n",
       "<text text-anchor=\"middle\" x=\"850\" y=\"-283.3\" font-family=\"Times New Roman,serif\" font-size=\"14.00\">gini = 0.0</text>\r\n",
       "<text text-anchor=\"middle\" x=\"850\" y=\"-268.3\" font-family=\"Times New Roman,serif\" font-size=\"14.00\">samples = 48</text>\r\n",
       "<text text-anchor=\"middle\" x=\"850\" y=\"-253.3\" font-family=\"Times New Roman,serif\" font-size=\"14.00\">value = [48, 0, 0]</text>\r\n",
       "<text text-anchor=\"middle\" x=\"850\" y=\"-238.3\" font-family=\"Times New Roman,serif\" font-size=\"14.00\">class = class_0</text>\r\n",
       "</g>\r\n",
       "<!-- 18&#45;&gt;19 -->\r\n",
       "<g id=\"edge19\" class=\"edge\"><title>18&#45;&gt;19</title>\r\n",
       "<path fill=\"none\" stroke=\"black\" d=\"M850,-341.907C850,-331.204 850,-319.615 850,-308.776\"/>\r\n",
       "<polygon fill=\"black\" stroke=\"black\" points=\"853.5,-308.667 850,-298.667 846.5,-308.667 853.5,-308.667\"/>\r\n",
       "</g>\r\n",
       "<!-- 20 -->\r\n",
       "<g id=\"node21\" class=\"node\"><title>20</title>\r\n",
       "<polygon fill=\"#39e581\" stroke=\"black\" points=\"1029.5,-298.5 924.5,-298.5 924.5,-230.5 1029.5,-230.5 1029.5,-298.5\"/>\r\n",
       "<text text-anchor=\"middle\" x=\"977\" y=\"-283.3\" font-family=\"Times New Roman,serif\" font-size=\"14.00\">gini = 0.0</text>\r\n",
       "<text text-anchor=\"middle\" x=\"977\" y=\"-268.3\" font-family=\"Times New Roman,serif\" font-size=\"14.00\">samples = 2</text>\r\n",
       "<text text-anchor=\"middle\" x=\"977\" y=\"-253.3\" font-family=\"Times New Roman,serif\" font-size=\"14.00\">value = [0, 2, 0]</text>\r\n",
       "<text text-anchor=\"middle\" x=\"977\" y=\"-238.3\" font-family=\"Times New Roman,serif\" font-size=\"14.00\">class = class_1</text>\r\n",
       "</g>\r\n",
       "<!-- 18&#45;&gt;20 -->\r\n",
       "<g id=\"edge20\" class=\"edge\"><title>18&#45;&gt;20</title>\r\n",
       "<path fill=\"none\" stroke=\"black\" d=\"M894.062,-341.907C906.878,-330.101 920.863,-317.217 933.636,-305.45\"/>\r\n",
       "<polygon fill=\"black\" stroke=\"black\" points=\"936.015,-308.017 940.998,-298.667 931.272,-302.868 936.015,-308.017\"/>\r\n",
       "</g>\r\n",
       "</g>\r\n",
       "</svg>\r\n"
      ],
      "text/plain": [
       "<graphviz.files.Source at 0x2a139ea9288>"
      ]
     },
     "execution_count": 7,
     "metadata": {},
     "output_type": "execute_result"
    }
   ],
   "source": [
    "dot_data = tree.export_graphviz(dtc, out_file=None,\n",
    "                                feature_names=load_wine().feature_names,\n",
    "                                class_names=load_wine().target_names,\n",
    "                                filled=True)\n",
    "graphviz.Source(dot_data)"
   ]
  },
  {
   "cell_type": "markdown",
   "metadata": {
    "colab_type": "text",
    "id": "IIDx6Zyu4I_E"
   },
   "source": [
    "### 3.\n",
    "Используя полученную модель, сделайте прогноз для тестовой выборки данных и, пользуясь встроенной функцией score(), определите точность модели."
   ]
  },
  {
   "cell_type": "code",
   "execution_count": 9,
   "metadata": {
    "colab": {},
    "colab_type": "code",
    "id": "1ldL9lLx4I_E"
   },
   "outputs": [
    {
     "data": {
      "text/plain": [
       "0.9333333333333333"
      ]
     },
     "execution_count": 9,
     "metadata": {},
     "output_type": "execute_result"
    }
   ],
   "source": [
    "### YOUR CODE HERE ###\n",
    "y_perdict=dtc.predict(x_test)\n",
    "accuracy = dtc.score(x_test, y_test)\n",
    "accuracy"
   ]
  },
  {
   "cell_type": "markdown",
   "metadata": {
    "colab_type": "text",
    "id": "iaZZ7PdZ4I_H"
   },
   "source": [
    "Теперь попробуем сделать начальную настройку гиперпараметров и посмотреть, что из этого выйдет. \n",
    "\n",
    "### 4.\n",
    "\n",
    "Постройте модель, указав гиперпараметр max_features равным 2 (так же указав random_state=17) и, сделав прогноз на тестовых данных, определите, стала ли модель работать точнее."
   ]
  },
  {
   "cell_type": "markdown",
   "metadata": {
    "colab_type": "text",
    "id": "uuCNx_8J4I_I"
   },
   "source": [
    "*Примечание: гиперпараметр max_features показывает модели, сколько различных признаков необходимо использовать каждый раз при принятии решения о разделении. То есть если, допустим, у вас имеются 50 признаков, а max_features=10, то в каждом узле случайным образом выбираются 10 признаков, которые будут использоваться для поиска лучшего разделения.*"
   ]
  },
  {
   "cell_type": "code",
   "execution_count": 10,
   "metadata": {
    "colab": {},
    "colab_type": "code",
    "id": "YERr0LVB4I_J"
   },
   "outputs": [],
   "source": [
    "### YOUR CODE HERE ###\n",
    "dtc_1=DecisionTreeClassifier(max_features=2).fit(x_train,y_train)"
   ]
  },
  {
   "cell_type": "markdown",
   "metadata": {
    "colab_type": "text",
    "id": "iqSAgyN64I_L"
   },
   "source": [
    "### 5.\n",
    "Теперь постройте граф дерева решений, используя graphviz."
   ]
  },
  {
   "cell_type": "code",
   "execution_count": 11,
   "metadata": {
    "colab": {},
    "colab_type": "code",
    "id": "0TsyA7zi4I_M"
   },
   "outputs": [
    {
     "data": {
      "image/svg+xml": [
       "<?xml version=\"1.0\" encoding=\"UTF-8\" standalone=\"no\"?>\r\n",
       "<!DOCTYPE svg PUBLIC \"-//W3C//DTD SVG 1.1//EN\"\r\n",
       " \"http://www.w3.org/Graphics/SVG/1.1/DTD/svg11.dtd\">\r\n",
       "<!-- Generated by graphviz version 2.38.0 (20140413.2041)\r\n",
       " -->\r\n",
       "<!-- Title: Tree Pages: 1 -->\r\n",
       "<svg width=\"1075pt\" height=\"671pt\"\r\n",
       " viewBox=\"0.00 0.00 1074.50 671.00\" xmlns=\"http://www.w3.org/2000/svg\" xmlns:xlink=\"http://www.w3.org/1999/xlink\">\r\n",
       "<g id=\"graph0\" class=\"graph\" transform=\"scale(1 1) rotate(0) translate(4 667)\">\r\n",
       "<title>Tree</title>\r\n",
       "<polygon fill=\"white\" stroke=\"none\" points=\"-4,4 -4,-667 1070.5,-667 1070.5,4 -4,4\"/>\r\n",
       "<!-- 0 -->\r\n",
       "<g id=\"node1\" class=\"node\"><title>0</title>\r\n",
       "<polygon fill=\"#fafefc\" stroke=\"black\" points=\"379.5,-663 221.5,-663 221.5,-580 379.5,-580 379.5,-663\"/>\r\n",
       "<text text-anchor=\"middle\" x=\"300.5\" y=\"-647.8\" font-family=\"Times New Roman,serif\" font-size=\"14.00\">alcalinity_of_ash &lt;= 17.9</text>\r\n",
       "<text text-anchor=\"middle\" x=\"300.5\" y=\"-632.8\" font-family=\"Times New Roman,serif\" font-size=\"14.00\">gini = 0.651</text>\r\n",
       "<text text-anchor=\"middle\" x=\"300.5\" y=\"-617.8\" font-family=\"Times New Roman,serif\" font-size=\"14.00\">samples = 133</text>\r\n",
       "<text text-anchor=\"middle\" x=\"300.5\" y=\"-602.8\" font-family=\"Times New Roman,serif\" font-size=\"14.00\">value = [50, 52, 31]</text>\r\n",
       "<text text-anchor=\"middle\" x=\"300.5\" y=\"-587.8\" font-family=\"Times New Roman,serif\" font-size=\"14.00\">class = class_1</text>\r\n",
       "</g>\r\n",
       "<!-- 1 -->\r\n",
       "<g id=\"node2\" class=\"node\"><title>1</title>\r\n",
       "<polygon fill=\"#eca572\" stroke=\"black\" points=\"252.5,-544 140.5,-544 140.5,-461 252.5,-461 252.5,-544\"/>\r\n",
       "<text text-anchor=\"middle\" x=\"196.5\" y=\"-528.8\" font-family=\"Times New Roman,serif\" font-size=\"14.00\">hue &lt;= 0.785</text>\r\n",
       "<text text-anchor=\"middle\" x=\"196.5\" y=\"-513.8\" font-family=\"Times New Roman,serif\" font-size=\"14.00\">gini = 0.361</text>\r\n",
       "<text text-anchor=\"middle\" x=\"196.5\" y=\"-498.8\" font-family=\"Times New Roman,serif\" font-size=\"14.00\">samples = 44</text>\r\n",
       "<text text-anchor=\"middle\" x=\"196.5\" y=\"-483.8\" font-family=\"Times New Roman,serif\" font-size=\"14.00\">value = [34, 9, 1]</text>\r\n",
       "<text text-anchor=\"middle\" x=\"196.5\" y=\"-468.8\" font-family=\"Times New Roman,serif\" font-size=\"14.00\">class = class_0</text>\r\n",
       "</g>\r\n",
       "<!-- 0&#45;&gt;1 -->\r\n",
       "<g id=\"edge1\" class=\"edge\"><title>0&#45;&gt;1</title>\r\n",
       "<path fill=\"none\" stroke=\"black\" d=\"M264.418,-579.907C256.351,-570.832 247.719,-561.121 239.406,-551.769\"/>\r\n",
       "<polygon fill=\"black\" stroke=\"black\" points=\"241.778,-549.17 232.518,-544.021 236.546,-553.82 241.778,-549.17\"/>\r\n",
       "<text text-anchor=\"middle\" x=\"231.05\" y=\"-565.278\" font-family=\"Times New Roman,serif\" font-size=\"14.00\">True</text>\r\n",
       "</g>\r\n",
       "<!-- 10 -->\r\n",
       "<g id=\"node11\" class=\"node\"><title>10</title>\r\n",
       "<polygon fill=\"#d3f9e3\" stroke=\"black\" points=\"468.5,-544 340.5,-544 340.5,-461 468.5,-461 468.5,-544\"/>\r\n",
       "<text text-anchor=\"middle\" x=\"404.5\" y=\"-528.8\" font-family=\"Times New Roman,serif\" font-size=\"14.00\">flavanoids &lt;= 1.315</text>\r\n",
       "<text text-anchor=\"middle\" x=\"404.5\" y=\"-513.8\" font-family=\"Times New Roman,serif\" font-size=\"14.00\">gini = 0.621</text>\r\n",
       "<text text-anchor=\"middle\" x=\"404.5\" y=\"-498.8\" font-family=\"Times New Roman,serif\" font-size=\"14.00\">samples = 89</text>\r\n",
       "<text text-anchor=\"middle\" x=\"404.5\" y=\"-483.8\" font-family=\"Times New Roman,serif\" font-size=\"14.00\">value = [16, 43, 30]</text>\r\n",
       "<text text-anchor=\"middle\" x=\"404.5\" y=\"-468.8\" font-family=\"Times New Roman,serif\" font-size=\"14.00\">class = class_1</text>\r\n",
       "</g>\r\n",
       "<!-- 0&#45;&gt;10 -->\r\n",
       "<g id=\"edge10\" class=\"edge\"><title>0&#45;&gt;10</title>\r\n",
       "<path fill=\"none\" stroke=\"black\" d=\"M336.582,-579.907C344.649,-570.832 353.281,-561.121 361.594,-551.769\"/>\r\n",
       "<polygon fill=\"black\" stroke=\"black\" points=\"364.454,-553.82 368.482,-544.021 359.222,-549.17 364.454,-553.82\"/>\r\n",
       "<text text-anchor=\"middle\" x=\"369.95\" y=\"-565.278\" font-family=\"Times New Roman,serif\" font-size=\"14.00\">False</text>\r\n",
       "</g>\r\n",
       "<!-- 2 -->\r\n",
       "<g id=\"node3\" class=\"node\"><title>2</title>\r\n",
       "<polygon fill=\"#8139e5\" stroke=\"black\" points=\"105,-417.5 0,-417.5 0,-349.5 105,-349.5 105,-417.5\"/>\r\n",
       "<text text-anchor=\"middle\" x=\"52.5\" y=\"-402.3\" font-family=\"Times New Roman,serif\" font-size=\"14.00\">gini = 0.0</text>\r\n",
       "<text text-anchor=\"middle\" x=\"52.5\" y=\"-387.3\" font-family=\"Times New Roman,serif\" font-size=\"14.00\">samples = 1</text>\r\n",
       "<text text-anchor=\"middle\" x=\"52.5\" y=\"-372.3\" font-family=\"Times New Roman,serif\" font-size=\"14.00\">value = [0, 0, 1]</text>\r\n",
       "<text text-anchor=\"middle\" x=\"52.5\" y=\"-357.3\" font-family=\"Times New Roman,serif\" font-size=\"14.00\">class = class_2</text>\r\n",
       "</g>\r\n",
       "<!-- 1&#45;&gt;2 -->\r\n",
       "<g id=\"edge2\" class=\"edge\"><title>1&#45;&gt;2</title>\r\n",
       "<path fill=\"none\" stroke=\"black\" d=\"M146.54,-460.907C131.873,-448.99 115.855,-435.976 101.263,-424.12\"/>\r\n",
       "<polygon fill=\"black\" stroke=\"black\" points=\"103.289,-421.256 93.3208,-417.667 98.8749,-426.689 103.289,-421.256\"/>\r\n",
       "</g>\r\n",
       "<!-- 3 -->\r\n",
       "<g id=\"node4\" class=\"node\"><title>3</title>\r\n",
       "<polygon fill=\"#eca26d\" stroke=\"black\" points=\"270,-425 123,-425 123,-342 270,-342 270,-425\"/>\r\n",
       "<text text-anchor=\"middle\" x=\"196.5\" y=\"-409.8\" font-family=\"Times New Roman,serif\" font-size=\"14.00\">color_intensity &lt;= 3.55</text>\r\n",
       "<text text-anchor=\"middle\" x=\"196.5\" y=\"-394.8\" font-family=\"Times New Roman,serif\" font-size=\"14.00\">gini = 0.331</text>\r\n",
       "<text text-anchor=\"middle\" x=\"196.5\" y=\"-379.8\" font-family=\"Times New Roman,serif\" font-size=\"14.00\">samples = 43</text>\r\n",
       "<text text-anchor=\"middle\" x=\"196.5\" y=\"-364.8\" font-family=\"Times New Roman,serif\" font-size=\"14.00\">value = [34, 9, 0]</text>\r\n",
       "<text text-anchor=\"middle\" x=\"196.5\" y=\"-349.8\" font-family=\"Times New Roman,serif\" font-size=\"14.00\">class = class_0</text>\r\n",
       "</g>\r\n",
       "<!-- 1&#45;&gt;3 -->\r\n",
       "<g id=\"edge3\" class=\"edge\"><title>1&#45;&gt;3</title>\r\n",
       "<path fill=\"none\" stroke=\"black\" d=\"M196.5,-460.907C196.5,-452.649 196.5,-443.864 196.5,-435.302\"/>\r\n",
       "<polygon fill=\"black\" stroke=\"black\" points=\"200,-435.021 196.5,-425.021 193,-435.021 200,-435.021\"/>\r\n",
       "</g>\r\n",
       "<!-- 4 -->\r\n",
       "<g id=\"node5\" class=\"node\"><title>4</title>\r\n",
       "<polygon fill=\"#39e581\" stroke=\"black\" points=\"117,-298.5 12,-298.5 12,-230.5 117,-230.5 117,-298.5\"/>\r\n",
       "<text text-anchor=\"middle\" x=\"64.5\" y=\"-283.3\" font-family=\"Times New Roman,serif\" font-size=\"14.00\">gini = 0.0</text>\r\n",
       "<text text-anchor=\"middle\" x=\"64.5\" y=\"-268.3\" font-family=\"Times New Roman,serif\" font-size=\"14.00\">samples = 6</text>\r\n",
       "<text text-anchor=\"middle\" x=\"64.5\" y=\"-253.3\" font-family=\"Times New Roman,serif\" font-size=\"14.00\">value = [0, 6, 0]</text>\r\n",
       "<text text-anchor=\"middle\" x=\"64.5\" y=\"-238.3\" font-family=\"Times New Roman,serif\" font-size=\"14.00\">class = class_1</text>\r\n",
       "</g>\r\n",
       "<!-- 3&#45;&gt;4 -->\r\n",
       "<g id=\"edge4\" class=\"edge\"><title>3&#45;&gt;4</title>\r\n",
       "<path fill=\"none\" stroke=\"black\" d=\"M150.703,-341.907C137.383,-330.101 122.847,-317.217 109.571,-305.45\"/>\r\n",
       "<polygon fill=\"black\" stroke=\"black\" points=\"111.724,-302.681 101.919,-298.667 107.081,-307.919 111.724,-302.681\"/>\r\n",
       "</g>\r\n",
       "<!-- 5 -->\r\n",
       "<g id=\"node6\" class=\"node\"><title>5</title>\r\n",
       "<polygon fill=\"#e78c4a\" stroke=\"black\" points=\"257.5,-306 135.5,-306 135.5,-223 257.5,-223 257.5,-306\"/>\r\n",
       "<text text-anchor=\"middle\" x=\"196.5\" y=\"-290.8\" font-family=\"Times New Roman,serif\" font-size=\"14.00\">flavanoids &lt;= 2.11</text>\r\n",
       "<text text-anchor=\"middle\" x=\"196.5\" y=\"-275.8\" font-family=\"Times New Roman,serif\" font-size=\"14.00\">gini = 0.149</text>\r\n",
       "<text text-anchor=\"middle\" x=\"196.5\" y=\"-260.8\" font-family=\"Times New Roman,serif\" font-size=\"14.00\">samples = 37</text>\r\n",
       "<text text-anchor=\"middle\" x=\"196.5\" y=\"-245.8\" font-family=\"Times New Roman,serif\" font-size=\"14.00\">value = [34, 3, 0]</text>\r\n",
       "<text text-anchor=\"middle\" x=\"196.5\" y=\"-230.8\" font-family=\"Times New Roman,serif\" font-size=\"14.00\">class = class_0</text>\r\n",
       "</g>\r\n",
       "<!-- 3&#45;&gt;5 -->\r\n",
       "<g id=\"edge5\" class=\"edge\"><title>3&#45;&gt;5</title>\r\n",
       "<path fill=\"none\" stroke=\"black\" d=\"M196.5,-341.907C196.5,-333.649 196.5,-324.864 196.5,-316.302\"/>\r\n",
       "<polygon fill=\"black\" stroke=\"black\" points=\"200,-316.021 196.5,-306.021 193,-316.021 200,-316.021\"/>\r\n",
       "</g>\r\n",
       "<!-- 6 -->\r\n",
       "<g id=\"node7\" class=\"node\"><title>6</title>\r\n",
       "<polygon fill=\"#39e581\" stroke=\"black\" points=\"122,-179.5 17,-179.5 17,-111.5 122,-111.5 122,-179.5\"/>\r\n",
       "<text text-anchor=\"middle\" x=\"69.5\" y=\"-164.3\" font-family=\"Times New Roman,serif\" font-size=\"14.00\">gini = 0.0</text>\r\n",
       "<text text-anchor=\"middle\" x=\"69.5\" y=\"-149.3\" font-family=\"Times New Roman,serif\" font-size=\"14.00\">samples = 2</text>\r\n",
       "<text text-anchor=\"middle\" x=\"69.5\" y=\"-134.3\" font-family=\"Times New Roman,serif\" font-size=\"14.00\">value = [0, 2, 0]</text>\r\n",
       "<text text-anchor=\"middle\" x=\"69.5\" y=\"-119.3\" font-family=\"Times New Roman,serif\" font-size=\"14.00\">class = class_1</text>\r\n",
       "</g>\r\n",
       "<!-- 5&#45;&gt;6 -->\r\n",
       "<g id=\"edge6\" class=\"edge\"><title>5&#45;&gt;6</title>\r\n",
       "<path fill=\"none\" stroke=\"black\" d=\"M152.438,-222.907C139.622,-211.101 125.637,-198.217 112.864,-186.45\"/>\r\n",
       "<polygon fill=\"black\" stroke=\"black\" points=\"115.228,-183.868 105.502,-179.667 110.485,-189.017 115.228,-183.868\"/>\r\n",
       "</g>\r\n",
       "<!-- 7 -->\r\n",
       "<g id=\"node8\" class=\"node\"><title>7</title>\r\n",
       "<polygon fill=\"#e6853f\" stroke=\"black\" points=\"252.5,-187 140.5,-187 140.5,-104 252.5,-104 252.5,-187\"/>\r\n",
       "<text text-anchor=\"middle\" x=\"196.5\" y=\"-171.8\" font-family=\"Times New Roman,serif\" font-size=\"14.00\">ash &lt;= 1.87</text>\r\n",
       "<text text-anchor=\"middle\" x=\"196.5\" y=\"-156.8\" font-family=\"Times New Roman,serif\" font-size=\"14.00\">gini = 0.056</text>\r\n",
       "<text text-anchor=\"middle\" x=\"196.5\" y=\"-141.8\" font-family=\"Times New Roman,serif\" font-size=\"14.00\">samples = 35</text>\r\n",
       "<text text-anchor=\"middle\" x=\"196.5\" y=\"-126.8\" font-family=\"Times New Roman,serif\" font-size=\"14.00\">value = [34, 1, 0]</text>\r\n",
       "<text text-anchor=\"middle\" x=\"196.5\" y=\"-111.8\" font-family=\"Times New Roman,serif\" font-size=\"14.00\">class = class_0</text>\r\n",
       "</g>\r\n",
       "<!-- 5&#45;&gt;7 -->\r\n",
       "<g id=\"edge7\" class=\"edge\"><title>5&#45;&gt;7</title>\r\n",
       "<path fill=\"none\" stroke=\"black\" d=\"M196.5,-222.907C196.5,-214.649 196.5,-205.864 196.5,-197.302\"/>\r\n",
       "<polygon fill=\"black\" stroke=\"black\" points=\"200,-197.021 196.5,-187.021 193,-197.021 200,-197.021\"/>\r\n",
       "</g>\r\n",
       "<!-- 8 -->\r\n",
       "<g id=\"node9\" class=\"node\"><title>8</title>\r\n",
       "<polygon fill=\"#39e581\" stroke=\"black\" points=\"138,-68 33,-68 33,-0 138,-0 138,-68\"/>\r\n",
       "<text text-anchor=\"middle\" x=\"85.5\" y=\"-52.8\" font-family=\"Times New Roman,serif\" font-size=\"14.00\">gini = 0.0</text>\r\n",
       "<text text-anchor=\"middle\" x=\"85.5\" y=\"-37.8\" font-family=\"Times New Roman,serif\" font-size=\"14.00\">samples = 1</text>\r\n",
       "<text text-anchor=\"middle\" x=\"85.5\" y=\"-22.8\" font-family=\"Times New Roman,serif\" font-size=\"14.00\">value = [0, 1, 0]</text>\r\n",
       "<text text-anchor=\"middle\" x=\"85.5\" y=\"-7.8\" font-family=\"Times New Roman,serif\" font-size=\"14.00\">class = class_1</text>\r\n",
       "</g>\r\n",
       "<!-- 7&#45;&gt;8 -->\r\n",
       "<g id=\"edge8\" class=\"edge\"><title>7&#45;&gt;8</title>\r\n",
       "<path fill=\"none\" stroke=\"black\" d=\"M155.168,-103.726C145.829,-94.5142 135.918,-84.7364 126.59,-75.5343\"/>\r\n",
       "<polygon fill=\"black\" stroke=\"black\" points=\"128.833,-72.8308 119.256,-68.2996 123.917,-77.8141 128.833,-72.8308\"/>\r\n",
       "</g>\r\n",
       "<!-- 9 -->\r\n",
       "<g id=\"node10\" class=\"node\"><title>9</title>\r\n",
       "<polygon fill=\"#e58139\" stroke=\"black\" points=\"268.5,-68 156.5,-68 156.5,-0 268.5,-0 268.5,-68\"/>\r\n",
       "<text text-anchor=\"middle\" x=\"212.5\" y=\"-52.8\" font-family=\"Times New Roman,serif\" font-size=\"14.00\">gini = 0.0</text>\r\n",
       "<text text-anchor=\"middle\" x=\"212.5\" y=\"-37.8\" font-family=\"Times New Roman,serif\" font-size=\"14.00\">samples = 34</text>\r\n",
       "<text text-anchor=\"middle\" x=\"212.5\" y=\"-22.8\" font-family=\"Times New Roman,serif\" font-size=\"14.00\">value = [34, 0, 0]</text>\r\n",
       "<text text-anchor=\"middle\" x=\"212.5\" y=\"-7.8\" font-family=\"Times New Roman,serif\" font-size=\"14.00\">class = class_0</text>\r\n",
       "</g>\r\n",
       "<!-- 7&#45;&gt;9 -->\r\n",
       "<g id=\"edge9\" class=\"edge\"><title>7&#45;&gt;9</title>\r\n",
       "<path fill=\"none\" stroke=\"black\" d=\"M202.458,-103.726C203.671,-95.4263 204.95,-86.6671 206.175,-78.2834\"/>\r\n",
       "<polygon fill=\"black\" stroke=\"black\" points=\"209.652,-78.7006 207.634,-68.2996 202.725,-77.6885 209.652,-78.7006\"/>\r\n",
       "</g>\r\n",
       "<!-- 11 -->\r\n",
       "<g id=\"node12\" class=\"node\"><title>11</title>\r\n",
       "<polygon fill=\"#8a47e7\" stroke=\"black\" points=\"460.5,-425 348.5,-425 348.5,-342 460.5,-342 460.5,-425\"/>\r\n",
       "<text text-anchor=\"middle\" x=\"404.5\" y=\"-409.8\" font-family=\"Times New Roman,serif\" font-size=\"14.00\">hue &lt;= 1.005</text>\r\n",
       "<text text-anchor=\"middle\" x=\"404.5\" y=\"-394.8\" font-family=\"Times New Roman,serif\" font-size=\"14.00\">gini = 0.124</text>\r\n",
       "<text text-anchor=\"middle\" x=\"404.5\" y=\"-379.8\" font-family=\"Times New Roman,serif\" font-size=\"14.00\">samples = 30</text>\r\n",
       "<text text-anchor=\"middle\" x=\"404.5\" y=\"-364.8\" font-family=\"Times New Roman,serif\" font-size=\"14.00\">value = [0, 2, 28]</text>\r\n",
       "<text text-anchor=\"middle\" x=\"404.5\" y=\"-349.8\" font-family=\"Times New Roman,serif\" font-size=\"14.00\">class = class_2</text>\r\n",
       "</g>\r\n",
       "<!-- 10&#45;&gt;11 -->\r\n",
       "<g id=\"edge11\" class=\"edge\"><title>10&#45;&gt;11</title>\r\n",
       "<path fill=\"none\" stroke=\"black\" d=\"M404.5,-460.907C404.5,-452.649 404.5,-443.864 404.5,-435.302\"/>\r\n",
       "<polygon fill=\"black\" stroke=\"black\" points=\"408,-435.021 404.5,-425.021 401,-435.021 408,-435.021\"/>\r\n",
       "</g>\r\n",
       "<!-- 18 -->\r\n",
       "<g id=\"node19\" class=\"node\"><title>18</title>\r\n",
       "<polygon fill=\"#8cf0b6\" stroke=\"black\" points=\"733,-425 614,-425 614,-342 733,-342 733,-425\"/>\r\n",
       "<text text-anchor=\"middle\" x=\"673.5\" y=\"-409.8\" font-family=\"Times New Roman,serif\" font-size=\"14.00\">proline &lt;= 707.5</text>\r\n",
       "<text text-anchor=\"middle\" x=\"673.5\" y=\"-394.8\" font-family=\"Times New Roman,serif\" font-size=\"14.00\">gini = 0.442</text>\r\n",
       "<text text-anchor=\"middle\" x=\"673.5\" y=\"-379.8\" font-family=\"Times New Roman,serif\" font-size=\"14.00\">samples = 59</text>\r\n",
       "<text text-anchor=\"middle\" x=\"673.5\" y=\"-364.8\" font-family=\"Times New Roman,serif\" font-size=\"14.00\">value = [16, 41, 2]</text>\r\n",
       "<text text-anchor=\"middle\" x=\"673.5\" y=\"-349.8\" font-family=\"Times New Roman,serif\" font-size=\"14.00\">class = class_1</text>\r\n",
       "</g>\r\n",
       "<!-- 10&#45;&gt;18 -->\r\n",
       "<g id=\"edge18\" class=\"edge\"><title>10&#45;&gt;18</title>\r\n",
       "<path fill=\"none\" stroke=\"black\" d=\"M468.59,-473.624C509.476,-455.841 562.451,-432.8 604.294,-414.601\"/>\r\n",
       "<polygon fill=\"black\" stroke=\"black\" points=\"605.813,-417.757 613.587,-410.559 603.021,-411.338 605.813,-417.757\"/>\r\n",
       "</g>\r\n",
       "<!-- 12 -->\r\n",
       "<g id=\"node13\" class=\"node\"><title>12</title>\r\n",
       "<polygon fill=\"#8640e6\" stroke=\"black\" points=\"393.5,-306 281.5,-306 281.5,-223 393.5,-223 393.5,-306\"/>\r\n",
       "<text text-anchor=\"middle\" x=\"337.5\" y=\"-290.8\" font-family=\"Times New Roman,serif\" font-size=\"14.00\">proline &lt;= 862.5</text>\r\n",
       "<text text-anchor=\"middle\" x=\"337.5\" y=\"-275.8\" font-family=\"Times New Roman,serif\" font-size=\"14.00\">gini = 0.067</text>\r\n",
       "<text text-anchor=\"middle\" x=\"337.5\" y=\"-260.8\" font-family=\"Times New Roman,serif\" font-size=\"14.00\">samples = 29</text>\r\n",
       "<text text-anchor=\"middle\" x=\"337.5\" y=\"-245.8\" font-family=\"Times New Roman,serif\" font-size=\"14.00\">value = [0, 1, 28]</text>\r\n",
       "<text text-anchor=\"middle\" x=\"337.5\" y=\"-230.8\" font-family=\"Times New Roman,serif\" font-size=\"14.00\">class = class_2</text>\r\n",
       "</g>\r\n",
       "<!-- 11&#45;&gt;12 -->\r\n",
       "<g id=\"edge12\" class=\"edge\"><title>11&#45;&gt;12</title>\r\n",
       "<path fill=\"none\" stroke=\"black\" d=\"M381.255,-341.907C376.266,-333.195 370.941,-323.897 365.785,-314.893\"/>\r\n",
       "<polygon fill=\"black\" stroke=\"black\" points=\"368.711,-312.959 360.704,-306.021 362.636,-316.438 368.711,-312.959\"/>\r\n",
       "</g>\r\n",
       "<!-- 17 -->\r\n",
       "<g id=\"node18\" class=\"node\"><title>17</title>\r\n",
       "<polygon fill=\"#39e581\" stroke=\"black\" points=\"517,-298.5 412,-298.5 412,-230.5 517,-230.5 517,-298.5\"/>\r\n",
       "<text text-anchor=\"middle\" x=\"464.5\" y=\"-283.3\" font-family=\"Times New Roman,serif\" font-size=\"14.00\">gini = 0.0</text>\r\n",
       "<text text-anchor=\"middle\" x=\"464.5\" y=\"-268.3\" font-family=\"Times New Roman,serif\" font-size=\"14.00\">samples = 1</text>\r\n",
       "<text text-anchor=\"middle\" x=\"464.5\" y=\"-253.3\" font-family=\"Times New Roman,serif\" font-size=\"14.00\">value = [0, 1, 0]</text>\r\n",
       "<text text-anchor=\"middle\" x=\"464.5\" y=\"-238.3\" font-family=\"Times New Roman,serif\" font-size=\"14.00\">class = class_1</text>\r\n",
       "</g>\r\n",
       "<!-- 11&#45;&gt;17 -->\r\n",
       "<g id=\"edge17\" class=\"edge\"><title>11&#45;&gt;17</title>\r\n",
       "<path fill=\"none\" stroke=\"black\" d=\"M425.317,-341.907C430.975,-330.873 437.117,-318.898 442.822,-307.773\"/>\r\n",
       "<polygon fill=\"black\" stroke=\"black\" points=\"446.042,-309.162 447.491,-298.667 439.814,-305.968 446.042,-309.162\"/>\r\n",
       "</g>\r\n",
       "<!-- 13 -->\r\n",
       "<g id=\"node14\" class=\"node\"><title>13</title>\r\n",
       "<polygon fill=\"#8139e5\" stroke=\"black\" points=\"382.5,-179.5 270.5,-179.5 270.5,-111.5 382.5,-111.5 382.5,-179.5\"/>\r\n",
       "<text text-anchor=\"middle\" x=\"326.5\" y=\"-164.3\" font-family=\"Times New Roman,serif\" font-size=\"14.00\">gini = 0.0</text>\r\n",
       "<text text-anchor=\"middle\" x=\"326.5\" y=\"-149.3\" font-family=\"Times New Roman,serif\" font-size=\"14.00\">samples = 27</text>\r\n",
       "<text text-anchor=\"middle\" x=\"326.5\" y=\"-134.3\" font-family=\"Times New Roman,serif\" font-size=\"14.00\">value = [0, 0, 27]</text>\r\n",
       "<text text-anchor=\"middle\" x=\"326.5\" y=\"-119.3\" font-family=\"Times New Roman,serif\" font-size=\"14.00\">class = class_2</text>\r\n",
       "</g>\r\n",
       "<!-- 12&#45;&gt;13 -->\r\n",
       "<g id=\"edge13\" class=\"edge\"><title>12&#45;&gt;13</title>\r\n",
       "<path fill=\"none\" stroke=\"black\" d=\"M333.684,-222.907C332.677,-212.204 331.588,-200.615 330.569,-189.776\"/>\r\n",
       "<polygon fill=\"black\" stroke=\"black\" points=\"334.039,-189.295 329.618,-179.667 327.07,-189.951 334.039,-189.295\"/>\r\n",
       "</g>\r\n",
       "<!-- 14 -->\r\n",
       "<g id=\"node15\" class=\"node\"><title>14</title>\r\n",
       "<polygon fill=\"#ffffff\" stroke=\"black\" points=\"558.5,-187 400.5,-187 400.5,-104 558.5,-104 558.5,-187\"/>\r\n",
       "<text text-anchor=\"middle\" x=\"479.5\" y=\"-171.8\" font-family=\"Times New Roman,serif\" font-size=\"14.00\">alcalinity_of_ash &lt;= 23.7</text>\r\n",
       "<text text-anchor=\"middle\" x=\"479.5\" y=\"-156.8\" font-family=\"Times New Roman,serif\" font-size=\"14.00\">gini = 0.5</text>\r\n",
       "<text text-anchor=\"middle\" x=\"479.5\" y=\"-141.8\" font-family=\"Times New Roman,serif\" font-size=\"14.00\">samples = 2</text>\r\n",
       "<text text-anchor=\"middle\" x=\"479.5\" y=\"-126.8\" font-family=\"Times New Roman,serif\" font-size=\"14.00\">value = [0, 1, 1]</text>\r\n",
       "<text text-anchor=\"middle\" x=\"479.5\" y=\"-111.8\" font-family=\"Times New Roman,serif\" font-size=\"14.00\">class = class_1</text>\r\n",
       "</g>\r\n",
       "<!-- 12&#45;&gt;14 -->\r\n",
       "<g id=\"edge14\" class=\"edge\"><title>12&#45;&gt;14</title>\r\n",
       "<path fill=\"none\" stroke=\"black\" d=\"M386.766,-222.907C398.221,-213.469 410.511,-203.343 422.276,-193.649\"/>\r\n",
       "<polygon fill=\"black\" stroke=\"black\" points=\"424.829,-196.081 430.321,-187.021 420.377,-190.679 424.829,-196.081\"/>\r\n",
       "</g>\r\n",
       "<!-- 15 -->\r\n",
       "<g id=\"node16\" class=\"node\"><title>15</title>\r\n",
       "<polygon fill=\"#39e581\" stroke=\"black\" points=\"416,-68 311,-68 311,-0 416,-0 416,-68\"/>\r\n",
       "<text text-anchor=\"middle\" x=\"363.5\" y=\"-52.8\" font-family=\"Times New Roman,serif\" font-size=\"14.00\">gini = 0.0</text>\r\n",
       "<text text-anchor=\"middle\" x=\"363.5\" y=\"-37.8\" font-family=\"Times New Roman,serif\" font-size=\"14.00\">samples = 1</text>\r\n",
       "<text text-anchor=\"middle\" x=\"363.5\" y=\"-22.8\" font-family=\"Times New Roman,serif\" font-size=\"14.00\">value = [0, 1, 0]</text>\r\n",
       "<text text-anchor=\"middle\" x=\"363.5\" y=\"-7.8\" font-family=\"Times New Roman,serif\" font-size=\"14.00\">class = class_1</text>\r\n",
       "</g>\r\n",
       "<!-- 14&#45;&gt;15 -->\r\n",
       "<g id=\"edge15\" class=\"edge\"><title>14&#45;&gt;15</title>\r\n",
       "<path fill=\"none\" stroke=\"black\" d=\"M436.306,-103.726C426.45,-94.423 415.984,-84.5428 406.151,-75.2612\"/>\r\n",
       "<polygon fill=\"black\" stroke=\"black\" points=\"408.451,-72.6189 398.776,-68.2996 403.646,-77.7092 408.451,-72.6189\"/>\r\n",
       "</g>\r\n",
       "<!-- 16 -->\r\n",
       "<g id=\"node17\" class=\"node\"><title>16</title>\r\n",
       "<polygon fill=\"#8139e5\" stroke=\"black\" points=\"539,-68 434,-68 434,-0 539,-0 539,-68\"/>\r\n",
       "<text text-anchor=\"middle\" x=\"486.5\" y=\"-52.8\" font-family=\"Times New Roman,serif\" font-size=\"14.00\">gini = 0.0</text>\r\n",
       "<text text-anchor=\"middle\" x=\"486.5\" y=\"-37.8\" font-family=\"Times New Roman,serif\" font-size=\"14.00\">samples = 1</text>\r\n",
       "<text text-anchor=\"middle\" x=\"486.5\" y=\"-22.8\" font-family=\"Times New Roman,serif\" font-size=\"14.00\">value = [0, 0, 1]</text>\r\n",
       "<text text-anchor=\"middle\" x=\"486.5\" y=\"-7.8\" font-family=\"Times New Roman,serif\" font-size=\"14.00\">class = class_2</text>\r\n",
       "</g>\r\n",
       "<!-- 14&#45;&gt;16 -->\r\n",
       "<g id=\"edge16\" class=\"edge\"><title>14&#45;&gt;16</title>\r\n",
       "<path fill=\"none\" stroke=\"black\" d=\"M482.107,-103.726C482.637,-95.4263 483.197,-86.6671 483.733,-78.2834\"/>\r\n",
       "<polygon fill=\"black\" stroke=\"black\" points=\"487.226,-78.5025 484.371,-68.2996 480.24,-78.0559 487.226,-78.5025\"/>\r\n",
       "</g>\r\n",
       "<!-- 19 -->\r\n",
       "<g id=\"node20\" class=\"node\"><title>19</title>\r\n",
       "<polygon fill=\"#43e688\" stroke=\"black\" points=\"743.5,-306 603.5,-306 603.5,-223 743.5,-223 743.5,-306\"/>\r\n",
       "<text text-anchor=\"middle\" x=\"673.5\" y=\"-290.8\" font-family=\"Times New Roman,serif\" font-size=\"14.00\">total_phenols &lt;= 1.43</text>\r\n",
       "<text text-anchor=\"middle\" x=\"673.5\" y=\"-275.8\" font-family=\"Times New Roman,serif\" font-size=\"14.00\">gini = 0.095</text>\r\n",
       "<text text-anchor=\"middle\" x=\"673.5\" y=\"-260.8\" font-family=\"Times New Roman,serif\" font-size=\"14.00\">samples = 40</text>\r\n",
       "<text text-anchor=\"middle\" x=\"673.5\" y=\"-245.8\" font-family=\"Times New Roman,serif\" font-size=\"14.00\">value = [0, 38, 2]</text>\r\n",
       "<text text-anchor=\"middle\" x=\"673.5\" y=\"-230.8\" font-family=\"Times New Roman,serif\" font-size=\"14.00\">class = class_1</text>\r\n",
       "</g>\r\n",
       "<!-- 18&#45;&gt;19 -->\r\n",
       "<g id=\"edge19\" class=\"edge\"><title>18&#45;&gt;19</title>\r\n",
       "<path fill=\"none\" stroke=\"black\" d=\"M673.5,-341.907C673.5,-333.649 673.5,-324.864 673.5,-316.302\"/>\r\n",
       "<polygon fill=\"black\" stroke=\"black\" points=\"677,-316.021 673.5,-306.021 670,-316.021 677,-316.021\"/>\r\n",
       "</g>\r\n",
       "<!-- 24 -->\r\n",
       "<g id=\"node25\" class=\"node\"><title>24</title>\r\n",
       "<polygon fill=\"#ea995e\" stroke=\"black\" points=\"960.5,-306 806.5,-306 806.5,-223 960.5,-223 960.5,-306\"/>\r\n",
       "<text text-anchor=\"middle\" x=\"883.5\" y=\"-290.8\" font-family=\"Times New Roman,serif\" font-size=\"14.00\">color_intensity &lt;= 3.435</text>\r\n",
       "<text text-anchor=\"middle\" x=\"883.5\" y=\"-275.8\" font-family=\"Times New Roman,serif\" font-size=\"14.00\">gini = 0.266</text>\r\n",
       "<text text-anchor=\"middle\" x=\"883.5\" y=\"-260.8\" font-family=\"Times New Roman,serif\" font-size=\"14.00\">samples = 19</text>\r\n",
       "<text text-anchor=\"middle\" x=\"883.5\" y=\"-245.8\" font-family=\"Times New Roman,serif\" font-size=\"14.00\">value = [16, 3, 0]</text>\r\n",
       "<text text-anchor=\"middle\" x=\"883.5\" y=\"-230.8\" font-family=\"Times New Roman,serif\" font-size=\"14.00\">class = class_0</text>\r\n",
       "</g>\r\n",
       "<!-- 18&#45;&gt;24 -->\r\n",
       "<g id=\"edge24\" class=\"edge\"><title>18&#45;&gt;24</title>\r\n",
       "<path fill=\"none\" stroke=\"black\" d=\"M733.116,-349.285C754.419,-337.417 778.808,-323.828 801.657,-311.098\"/>\r\n",
       "<polygon fill=\"black\" stroke=\"black\" points=\"803.632,-314.004 810.665,-306.08 800.225,-307.889 803.632,-314.004\"/>\r\n",
       "</g>\r\n",
       "<!-- 20 -->\r\n",
       "<g id=\"node21\" class=\"node\"><title>20</title>\r\n",
       "<polygon fill=\"#ffffff\" stroke=\"black\" points=\"682,-187 577,-187 577,-104 682,-104 682,-187\"/>\r\n",
       "<text text-anchor=\"middle\" x=\"629.5\" y=\"-171.8\" font-family=\"Times New Roman,serif\" font-size=\"14.00\">ash &lt;= 2.32</text>\r\n",
       "<text text-anchor=\"middle\" x=\"629.5\" y=\"-156.8\" font-family=\"Times New Roman,serif\" font-size=\"14.00\">gini = 0.5</text>\r\n",
       "<text text-anchor=\"middle\" x=\"629.5\" y=\"-141.8\" font-family=\"Times New Roman,serif\" font-size=\"14.00\">samples = 4</text>\r\n",
       "<text text-anchor=\"middle\" x=\"629.5\" y=\"-126.8\" font-family=\"Times New Roman,serif\" font-size=\"14.00\">value = [0, 2, 2]</text>\r\n",
       "<text text-anchor=\"middle\" x=\"629.5\" y=\"-111.8\" font-family=\"Times New Roman,serif\" font-size=\"14.00\">class = class_1</text>\r\n",
       "</g>\r\n",
       "<!-- 19&#45;&gt;20 -->\r\n",
       "<g id=\"edge20\" class=\"edge\"><title>19&#45;&gt;20</title>\r\n",
       "<path fill=\"none\" stroke=\"black\" d=\"M658.234,-222.907C655.026,-214.377 651.607,-205.284 648.287,-196.456\"/>\r\n",
       "<polygon fill=\"black\" stroke=\"black\" points=\"651.535,-195.149 644.739,-187.021 644.983,-197.613 651.535,-195.149\"/>\r\n",
       "</g>\r\n",
       "<!-- 23 -->\r\n",
       "<g id=\"node24\" class=\"node\"><title>23</title>\r\n",
       "<polygon fill=\"#39e581\" stroke=\"black\" points=\"812.5,-179.5 700.5,-179.5 700.5,-111.5 812.5,-111.5 812.5,-179.5\"/>\r\n",
       "<text text-anchor=\"middle\" x=\"756.5\" y=\"-164.3\" font-family=\"Times New Roman,serif\" font-size=\"14.00\">gini = 0.0</text>\r\n",
       "<text text-anchor=\"middle\" x=\"756.5\" y=\"-149.3\" font-family=\"Times New Roman,serif\" font-size=\"14.00\">samples = 36</text>\r\n",
       "<text text-anchor=\"middle\" x=\"756.5\" y=\"-134.3\" font-family=\"Times New Roman,serif\" font-size=\"14.00\">value = [0, 36, 0]</text>\r\n",
       "<text text-anchor=\"middle\" x=\"756.5\" y=\"-119.3\" font-family=\"Times New Roman,serif\" font-size=\"14.00\">class = class_1</text>\r\n",
       "</g>\r\n",
       "<!-- 19&#45;&gt;23 -->\r\n",
       "<g id=\"edge23\" class=\"edge\"><title>19&#45;&gt;23</title>\r\n",
       "<path fill=\"none\" stroke=\"black\" d=\"M702.296,-222.907C710.281,-211.652 718.96,-199.418 726.984,-188.106\"/>\r\n",
       "<polygon fill=\"black\" stroke=\"black\" points=\"730.04,-189.848 732.971,-179.667 724.331,-185.798 730.04,-189.848\"/>\r\n",
       "</g>\r\n",
       "<!-- 21 -->\r\n",
       "<g id=\"node22\" class=\"node\"><title>21</title>\r\n",
       "<polygon fill=\"#39e581\" stroke=\"black\" points=\"675,-68 570,-68 570,-0 675,-0 675,-68\"/>\r\n",
       "<text text-anchor=\"middle\" x=\"622.5\" y=\"-52.8\" font-family=\"Times New Roman,serif\" font-size=\"14.00\">gini = 0.0</text>\r\n",
       "<text text-anchor=\"middle\" x=\"622.5\" y=\"-37.8\" font-family=\"Times New Roman,serif\" font-size=\"14.00\">samples = 2</text>\r\n",
       "<text text-anchor=\"middle\" x=\"622.5\" y=\"-22.8\" font-family=\"Times New Roman,serif\" font-size=\"14.00\">value = [0, 2, 0]</text>\r\n",
       "<text text-anchor=\"middle\" x=\"622.5\" y=\"-7.8\" font-family=\"Times New Roman,serif\" font-size=\"14.00\">class = class_1</text>\r\n",
       "</g>\r\n",
       "<!-- 20&#45;&gt;21 -->\r\n",
       "<g id=\"edge21\" class=\"edge\"><title>20&#45;&gt;21</title>\r\n",
       "<path fill=\"none\" stroke=\"black\" d=\"M626.893,-103.726C626.363,-95.4263 625.803,-86.6671 625.267,-78.2834\"/>\r\n",
       "<polygon fill=\"black\" stroke=\"black\" points=\"628.76,-78.0559 624.629,-68.2996 621.774,-78.5025 628.76,-78.0559\"/>\r\n",
       "</g>\r\n",
       "<!-- 22 -->\r\n",
       "<g id=\"node23\" class=\"node\"><title>22</title>\r\n",
       "<polygon fill=\"#8139e5\" stroke=\"black\" points=\"798,-68 693,-68 693,-0 798,-0 798,-68\"/>\r\n",
       "<text text-anchor=\"middle\" x=\"745.5\" y=\"-52.8\" font-family=\"Times New Roman,serif\" font-size=\"14.00\">gini = 0.0</text>\r\n",
       "<text text-anchor=\"middle\" x=\"745.5\" y=\"-37.8\" font-family=\"Times New Roman,serif\" font-size=\"14.00\">samples = 2</text>\r\n",
       "<text text-anchor=\"middle\" x=\"745.5\" y=\"-22.8\" font-family=\"Times New Roman,serif\" font-size=\"14.00\">value = [0, 0, 2]</text>\r\n",
       "<text text-anchor=\"middle\" x=\"745.5\" y=\"-7.8\" font-family=\"Times New Roman,serif\" font-size=\"14.00\">class = class_2</text>\r\n",
       "</g>\r\n",
       "<!-- 20&#45;&gt;22 -->\r\n",
       "<g id=\"edge22\" class=\"edge\"><title>20&#45;&gt;22</title>\r\n",
       "<path fill=\"none\" stroke=\"black\" d=\"M672.694,-103.726C682.55,-94.423 693.016,-84.5428 702.849,-75.2612\"/>\r\n",
       "<polygon fill=\"black\" stroke=\"black\" points=\"705.354,-77.7092 710.224,-68.2996 700.549,-72.6189 705.354,-77.7092\"/>\r\n",
       "</g>\r\n",
       "<!-- 25 -->\r\n",
       "<g id=\"node26\" class=\"node\"><title>25</title>\r\n",
       "<polygon fill=\"#39e581\" stroke=\"black\" points=\"936,-179.5 831,-179.5 831,-111.5 936,-111.5 936,-179.5\"/>\r\n",
       "<text text-anchor=\"middle\" x=\"883.5\" y=\"-164.3\" font-family=\"Times New Roman,serif\" font-size=\"14.00\">gini = 0.0</text>\r\n",
       "<text text-anchor=\"middle\" x=\"883.5\" y=\"-149.3\" font-family=\"Times New Roman,serif\" font-size=\"14.00\">samples = 3</text>\r\n",
       "<text text-anchor=\"middle\" x=\"883.5\" y=\"-134.3\" font-family=\"Times New Roman,serif\" font-size=\"14.00\">value = [0, 3, 0]</text>\r\n",
       "<text text-anchor=\"middle\" x=\"883.5\" y=\"-119.3\" font-family=\"Times New Roman,serif\" font-size=\"14.00\">class = class_1</text>\r\n",
       "</g>\r\n",
       "<!-- 24&#45;&gt;25 -->\r\n",
       "<g id=\"edge25\" class=\"edge\"><title>24&#45;&gt;25</title>\r\n",
       "<path fill=\"none\" stroke=\"black\" d=\"M883.5,-222.907C883.5,-212.204 883.5,-200.615 883.5,-189.776\"/>\r\n",
       "<polygon fill=\"black\" stroke=\"black\" points=\"887,-189.667 883.5,-179.667 880,-189.667 887,-189.667\"/>\r\n",
       "</g>\r\n",
       "<!-- 26 -->\r\n",
       "<g id=\"node27\" class=\"node\"><title>26</title>\r\n",
       "<polygon fill=\"#e58139\" stroke=\"black\" points=\"1066.5,-179.5 954.5,-179.5 954.5,-111.5 1066.5,-111.5 1066.5,-179.5\"/>\r\n",
       "<text text-anchor=\"middle\" x=\"1010.5\" y=\"-164.3\" font-family=\"Times New Roman,serif\" font-size=\"14.00\">gini = 0.0</text>\r\n",
       "<text text-anchor=\"middle\" x=\"1010.5\" y=\"-149.3\" font-family=\"Times New Roman,serif\" font-size=\"14.00\">samples = 16</text>\r\n",
       "<text text-anchor=\"middle\" x=\"1010.5\" y=\"-134.3\" font-family=\"Times New Roman,serif\" font-size=\"14.00\">value = [16, 0, 0]</text>\r\n",
       "<text text-anchor=\"middle\" x=\"1010.5\" y=\"-119.3\" font-family=\"Times New Roman,serif\" font-size=\"14.00\">class = class_0</text>\r\n",
       "</g>\r\n",
       "<!-- 24&#45;&gt;26 -->\r\n",
       "<g id=\"edge26\" class=\"edge\"><title>24&#45;&gt;26</title>\r\n",
       "<path fill=\"none\" stroke=\"black\" d=\"M927.562,-222.907C940.378,-211.101 954.363,-198.217 967.136,-186.45\"/>\r\n",
       "<polygon fill=\"black\" stroke=\"black\" points=\"969.515,-189.017 974.498,-179.667 964.772,-183.868 969.515,-189.017\"/>\r\n",
       "</g>\r\n",
       "</g>\r\n",
       "</svg>\r\n"
      ],
      "text/plain": [
       "<graphviz.files.Source at 0x2a13c6bf148>"
      ]
     },
     "execution_count": 11,
     "metadata": {},
     "output_type": "execute_result"
    }
   ],
   "source": [
    "### YOUR CODE HERE ###\n",
    "dot_data = tree.export_graphviz(dtc_1, out_file=None,\n",
    "                                feature_names=load_wine().feature_names,\n",
    "                                class_names=load_wine().target_names,\n",
    "                                filled=True)\n",
    "graphviz.Source(dot_data)"
   ]
  },
  {
   "cell_type": "markdown",
   "metadata": {
    "colab_type": "text",
    "id": "XLY2b9Zj4I_R"
   },
   "source": [
    "Модель работает точнее, чем без настройки гиперпараметров, но по графу можно увидеть, что глубина дерева увеличилась, при этом в нескольких листах присутствует только по одному объекту, из-за чего на тестовом наборе данных дерево могло несколько потерять обобщающую способность."
   ]
  },
  {
   "cell_type": "markdown",
   "metadata": {
    "colab_type": "text",
    "id": "Sn5AqeBa4I_S"
   },
   "source": [
    "Так как главная задача модели - способность обобщаться на новые данные, то для подбора оптимальных гиперпараметров надо пожертвовать небольшой порцией данных, чтобы на ней во время обучения проверять качество модели.\n",
    "\n",
    "Часто для этого используют кросс-валидацию: модель обучается K раз на (K-1) подвыборках исходной выборки, а на одной подвыборке проверяется (каждый раз на разной). Получаются K оценок качества модели, которые обычно усредняются, давая среднюю оценку.\n",
    "\n",
    "Кросс-валидация применяется для подбора гиперпараметров модели в методе GridSearchCV(): для каждой уникальной совокупности значений параметров проводится кросс-валидация и выбирается лучшее сочетание параметров."
   ]
  },
  {
   "cell_type": "markdown",
   "metadata": {
    "colab_type": "text",
    "id": "B44jm6in4I_T"
   },
   "source": [
    "### 6.\n",
    "Используя обученное в предыдущем задании дерево решений, настройте параметры max_depth и max_features на 5-кратной валидации с помощью GridSearchCV. Для этого в функцию GridSearchCV передайте параметры (tree, tree_params, cv=5).\n",
    "\n",
    "*Примечание: tree здесь - не обученная модель, а объект, который инкапсулирует алгоритм. Например, в уроке мы его обозначали как dtc.*"
   ]
  },
  {
   "cell_type": "code",
   "execution_count": 30,
   "metadata": {
    "colab": {},
    "colab_type": "code",
    "id": "UeNf1bED4I_U"
   },
   "outputs": [],
   "source": [
    "from sklearn.model_selection import GridSearchCV, cross_val_score"
   ]
  },
  {
   "cell_type": "code",
   "execution_count": 31,
   "metadata": {},
   "outputs": [],
   "source": [
    "dt=DecisionTreeClassifier()"
   ]
  },
  {
   "cell_type": "code",
   "execution_count": 32,
   "metadata": {
    "colab": {},
    "colab_type": "code",
    "id": "ZsXG1rh64I_X"
   },
   "outputs": [],
   "source": [
    "tree_params = {'max_depth': range(1, 6), \n",
    "               'max_features': range(1, 10)}\n",
    "\n",
    "tree_grid = GridSearchCV(dt, tree_params, cv=5)"
   ]
  },
  {
   "cell_type": "markdown",
   "metadata": {
    "colab_type": "text",
    "id": "tRPqIdCD4I_a"
   },
   "source": [
    "### 7.\n",
    "С помощью метода tree_grid.fit() постройте модель на тренировочных данных и выведите лучшее сочетание параметров с помощью метода tree_grid.best_params_."
   ]
  },
  {
   "cell_type": "code",
   "execution_count": 33,
   "metadata": {
    "colab": {},
    "colab_type": "code",
    "id": "JHVTQPfV4I_a"
   },
   "outputs": [
    {
     "name": "stderr",
     "output_type": "stream",
     "text": [
      "C:\\Users\\alexey.toporov\\AppData\\Local\\Continuum\\anaconda3\\lib\\site-packages\\sklearn\\model_selection\\_search.py:814: DeprecationWarning: The default of the `iid` parameter will change from True to False in version 0.22 and will be removed in 0.24. This will change numeric results when test-set sizes are unequal.\n",
      "  DeprecationWarning)\n"
     ]
    },
    {
     "data": {
      "text/plain": [
       "{'max_depth': 5, 'max_features': 8}"
      ]
     },
     "execution_count": 33,
     "metadata": {},
     "output_type": "execute_result"
    }
   ],
   "source": [
    "### YOUR CODE HERE ###\n",
    "tree_grid.fit(x_train, y_train)\n",
    "tree_grid.best_params_"
   ]
  },
  {
   "cell_type": "markdown",
   "metadata": {
    "colab_type": "text",
    "id": "p5s_eukw4I_c"
   },
   "source": [
    "### 8.\n",
    "С помощью полученной модели сделайте прогноз - predict - для тестовой выборки и выведите долю верных ответов, проверив точность модели, используя функцию accuracy_score."
   ]
  },
  {
   "cell_type": "code",
   "execution_count": 34,
   "metadata": {
    "colab": {},
    "colab_type": "code",
    "id": "_n05UvV54I_d"
   },
   "outputs": [],
   "source": [
    "from sklearn.metrics import accuracy_score"
   ]
  },
  {
   "cell_type": "code",
   "execution_count": 35,
   "metadata": {
    "colab": {},
    "colab_type": "code",
    "id": "9N55pj4y4I_g"
   },
   "outputs": [
    {
     "data": {
      "text/plain": [
       "0.9555555555555556"
      ]
     },
     "execution_count": 35,
     "metadata": {},
     "output_type": "execute_result"
    }
   ],
   "source": [
    "y_perdict = tree_grid.predict(x_test)\n",
    "accuracy = accuracy_score(y_test,y_perdict)\n",
    "accuracy"
   ]
  },
  {
   "cell_type": "code",
   "execution_count": null,
   "metadata": {},
   "outputs": [],
   "source": []
  }
 ],
 "metadata": {
  "colab": {
   "name": "homework_classification-1_les-3.ipynb",
   "provenance": [],
   "version": "0.3.2"
  },
  "kernelspec": {
   "display_name": "Python 3",
   "language": "python",
   "name": "python3"
  },
  "language_info": {
   "codemirror_mode": {
    "name": "ipython",
    "version": 3
   },
   "file_extension": ".py",
   "mimetype": "text/x-python",
   "name": "python",
   "nbconvert_exporter": "python",
   "pygments_lexer": "ipython3",
   "version": "3.7.4"
  }
 },
 "nbformat": 4,
 "nbformat_minor": 1
}
