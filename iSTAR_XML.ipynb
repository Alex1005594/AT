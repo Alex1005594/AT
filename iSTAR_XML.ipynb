{
 "cells": [
  {
   "cell_type": "markdown",
   "metadata": {},
   "source": [
    "## Установка пакета, необходимого для подключения к MsSQL\n",
    "Пакет необходимо установить только один раз.  \n",
    "\n",
    "При следующем запуске устанавливать не надо."
   ]
  },
  {
   "cell_type": "code",
   "execution_count": 1,
   "metadata": {
    "scrolled": false
   },
   "outputs": [
    {
     "name": "stdout",
     "output_type": "stream",
     "text": [
      "Collecting pymssql\n",
      "  Downloading https://files.pythonhosted.org/packages/45/0c/81bf31194f4dc0ee06b429efe98ce2fc202876cd4749f95bddfb9f3b0a50/pymssql-2.1.4-cp37-cp37m-win_amd64.whl (411kB)\n",
      "Installing collected packages: pymssql\n",
      "Successfully installed pymssql-2.1.4\n",
      "Note: you may need to restart the kernel to use updated packages.\n"
     ]
    }
   ],
   "source": [
    "#Установка пакета\n",
    "pip install pymssql"
   ]
  },
  {
   "cell_type": "markdown",
   "metadata": {},
   "source": [
    "## Импорт пакетов, необходимых для работы.\n",
    "`ElementTree` - пакет, необходимый для работы с **XML**-файлами.  \n",
    "`Pandas, numpy` - стандартные пакеты для анализа данных.  \n",
    "`Pymssql` - пакет, для подключения к **MsSQL**."
   ]
  },
  {
   "cell_type": "code",
   "execution_count": 1,
   "metadata": {},
   "outputs": [
    {
     "name": "stderr",
     "output_type": "stream",
     "text": [
      "C:\\Users\\Alexey.Toporov\\AppData\\Local\\Continuum\\anaconda3\\lib\\site-packages\\ipykernel_launcher.py:5: DeprecationWarning: Using or importing the ABCs from 'collections' instead of from 'collections.abc' is deprecated, and in 3.8 it will stop working\n",
      "  \"\"\"\n"
     ]
    }
   ],
   "source": [
    "#Импорт пакетов\n",
    "from xml.etree import ElementTree\n",
    "import pandas as pd\n",
    "import numpy as np\n",
    "import pymssql as ms"
   ]
  },
  {
   "cell_type": "markdown",
   "metadata": {},
   "source": [
    "## Подключение к базе данных.\n",
    "В `iStar_XML` прописывается путь к файлу, в который будут выгружены данные. Если путь не прописывать, тогда файл создаётся в корневой папке.  \n",
    "\n",
    "В `conn` указываются:\n",
    "- `server` - имя сервера;\n",
    "- `user` - имя пользователя;\n",
    "- `password` - пароль пользователя;\n",
    "- `database` - имя базы, откуда берутся данные.  \n",
    "\n",
    "В `cursor.execute` необходимо указать промежуток времени для извлечения данных.  "
   ]
  },
  {
   "cell_type": "code",
   "execution_count": 76,
   "metadata": {},
   "outputs": [],
   "source": [
    "#Подключение к MsSQL\n",
    "iStar_XML = open('iStar_XML.txt', mode='w')\n",
    "\n",
    "conn = ms.connect(server='SSQL', user='AEROPORT\\Alexey.Toporov', \n",
    "                       password='', database='iStarRQ')\n",
    "cursor = conn.cursor()\n",
    "cursor.execute('''select cast(lg_ToTime as date), cast (lg_ReportStruct as xml) \n",
    "from iStarRQ.dbo.Log with (nolock) \n",
    "where lg_ReportStruct is not null and lg_ToTime between '2019-07-01' and '2020-01-15' ''')\n",
    "row = cursor.fetchone()\n",
    "while row:\n",
    "    iStar_XML.write(f'{row[0]};:,{row[1]}\\n')\n",
    "    row = cursor.fetchone()"
   ]
  },
  {
   "cell_type": "markdown",
   "metadata": {},
   "source": [
    "## Ветка фильтра.\n",
    "\n",
    "В `file` необходимо прописать путь для файла из которого извлекаются данные. Путь должен совпадать с `iStar_XML` из прошлой ячейки.  \n",
    "\n",
    "В `df1` и `df2` можно изменить имя колонок в таблице.  \n",
    "\n",
    "В `pd.ExcelWriter` прописывается путь к папке, в которой будет сохранён отчёт.  \n",
    "\n",
    "В `df1.to_excel` и `df2.to_excel` можно изменить название листов в отчёте **Excel**.  "
   ]
  },
  {
   "cell_type": "code",
   "execution_count": 80,
   "metadata": {},
   "outputs": [],
   "source": [
    "#Фильтр\n",
    "\n",
    "df=[]\n",
    "dff=[]\n",
    "file = 'iStar_XML.txt'\n",
    "count=1\n",
    "with open (file) as f:\n",
    "    for l in f:\n",
    "        line1,line=l.split(';:,')\n",
    "        dom_xml=ElementTree.fromstring(line)\n",
    "        type_of_report=dom_xml.find('general/type')\n",
    "        report_name=dom_xml.find('general/title')\n",
    "        filter_name=dom_xml.findall('query/node/items/node/items/')\n",
    "        filter1=dom_xml.findall('query/node/items/node/items/node/items/item/title')\n",
    "        for name in filter_name:\n",
    "                filter2=name.findall('items/item/title')\n",
    "                for f2 in filter2:\n",
    "                    df.append([line1, count,type_of_report.text,report_name.text,name.find('title').text, f2.text])\n",
    "        for name in filter_name:\n",
    "                dff.append([line1, count,type_of_report.text,report_name.text,name.find('title').text])\n",
    "        count+=1\n",
    "\n",
    "df1=pd.DataFrame(data=np.array(df), columns=('Дата', 'Номер','Тип отчёта','Название отчёта','filter','filter_name'))\n",
    "df2=pd.DataFrame(data=np.array(dff), columns=('Дата', 'Номер','Тип отчёта','Название отчёта','filter'))\n",
    "df1['Тип отчёта']=df1['Тип отчёта'].map(lambda x: 'audience' if x=='0' else 'duplication' )\n",
    "df2['Тип отчёта']=df2['Тип отчёта'].map(lambda x: 'audience' if x=='0' else 'duplication' )\n",
    "p=df2.groupby(['filter']).size().reset_index(name='count')\n",
    "p['share%']=p['count']/p['count'].sum()*100\n",
    "p.sort_values('count',ascending=False, inplace=True)\n",
    "p1=df2[['Дата', 'filter']].groupby(['filter','Дата']).size().unstack().fillna(0).reset_index()\n",
    "with pd.ExcelWriter('filter2.xlsx') as writer:  \n",
    "    df2.to_excel(writer, sheet_name='filter')\n",
    "    df1.to_excel(writer, sheet_name='filter_name')\n",
    "    p.to_excel(writer, sheet_name='filter_name_pivot')\n",
    "    p1.to_excel(writer, sheet_name='filter_name_stats_by_date')"
   ]
  },
  {
   "cell_type": "markdown",
   "metadata": {},
   "source": [
    "## Ветка структуры. Колонки.\n",
    "В `file` необходимо прописать путь для файла из которого извлекаются данные. Путь должен совпадать с `iStar_XML` из 3 ячейки.  \n",
    "\n",
    "В `c`, `c1`, `c2` и `c3` можно изменить имя колонок в таблице.  \n",
    "\n",
    "В `pd.ExcelWriter` прописывается путь к папке, в которой будет сохранён отчёт.  \n",
    "\n",
    "В `c.to_excel`, `c1.to_excel`, `c2.to_excel` и `c3.to_excel` можно изменить название листов в отчёте **Excel**.  "
   ]
  },
  {
   "cell_type": "code",
   "execution_count": 78,
   "metadata": {},
   "outputs": [],
   "source": [
    "#Колонки\n",
    "df=[]\n",
    "df1=[]\n",
    "df2=[]\n",
    "df3=[]\n",
    "df4=[]\n",
    "file = 'iStar_XML.txt'\n",
    "count=1\n",
    "with open (file) as f:\n",
    "    for l in f:\n",
    "        line1,line=l.split(';:,')\n",
    "        dom_xml=ElementTree.fromstring(line)\n",
    "        type_of_report=dom_xml.find('general/type')\n",
    "        report_name=dom_xml.findall('general/title')\n",
    "        columns=dom_xml.findall('structure/columns/edges/edge/title')\n",
    "        columns1=dom_xml.findall('structure/columns/edges/edge/items/statistic/title')\n",
    "        columns2=dom_xml.findall('structure/columns/edges/edge/items/udb/structure/group/title')\n",
    "        columns3=dom_xml.findall('structure/columns/edges/edge/items/attribute/title')\n",
    "        for v in report_name:\n",
    "            for i in columns:\n",
    "                df1.append([line1,count,type_of_report.text, v.text,i.text])\n",
    "        for v in report_name:\n",
    "            for i in columns1:\n",
    "                df2.append([line1,count,type_of_report.text, v.text,i.text])\n",
    "        for v in report_name:    \n",
    "            for i in columns2:\n",
    "                df3.append([line1,count,type_of_report.text, v.text,i.text])\n",
    "        for v in report_name:\n",
    "            for i in columns3:\n",
    "                df4.append([line1,count,type_of_report.text, v.text,i.text])\n",
    "        count+=1\n",
    "c=pd.DataFrame(data=np.array(df1),columns=['Дата','Номер','Тип отчёта','Название отчёта','edge_title'])\n",
    "c1=pd.DataFrame(data=np.array(df2),columns=['Дата','Номер','Тип отчёта','Название отчёта','statistics'])\n",
    "c2=pd.DataFrame(data=np.array(df3),columns=['Дата','Номер','Тип отчёта','Название отчёта','udb_title'])\n",
    "c3=pd.DataFrame(data=np.array(df4),columns=['Дата','Номер','Тип отчёта','Название отчёта','attribute_title'])\n",
    "c['Тип отчёта']=c['Тип отчёта'].map(lambda x: 'audience' if x=='0' else 'duplication' )\n",
    "c1['Тип отчёта']=c1['Тип отчёта'].map(lambda x: 'audience' if x=='0' else 'duplication' )\n",
    "c2['Тип отчёта']=c2['Тип отчёта'].map(lambda x: 'audience' if x=='0' else 'duplication' )\n",
    "c3['Тип отчёта']=c3['Тип отчёта'].map(lambda x: 'audience' if x=='0' else 'duplication' )\n",
    "p=c1.groupby(['statistics']).size().reset_index(name='count')\n",
    "p['share%']=p['count']/p['count'].sum()*100\n",
    "p.sort_values('count',ascending=False, inplace=True)\n",
    "p1=c1[['Дата', 'statistics']].groupby(['statistics','Дата']).size().unstack().fillna(0).reset_index()\n",
    "with pd.ExcelWriter('columns2.xlsx') as writer:  \n",
    "    c.to_excel(writer, sheet_name='edge_title')\n",
    "    c1.to_excel(writer, sheet_name='statistics')\n",
    "    c2.to_excel(writer, sheet_name='udb_title')\n",
    "    c3.to_excel(writer, sheet_name='attribute_title')\n",
    "    p.to_excel(writer, sheet_name='attribute_title_pivot')\n",
    "    p1.to_excel(writer, sheet_name='attribute_title_pivot_by_date')"
   ]
  },
  {
   "cell_type": "markdown",
   "metadata": {},
   "source": [
    "## Ветка структуры. Строки.\n",
    "В `file` необходимо прописать путь для файла из которого извлекаются данные. Путь должен совпадать с `iStar_XML` из 3 ячейки.  \n",
    "\n",
    "В `c1`, `c2` и `c3` можно изменить имя колонок в таблице.  \n",
    "\n",
    "В `pd.ExcelWriter` прописывается путь к папке, в которой будет сохранён отчёт.  \n",
    "\n",
    "В `c1.to_excel`, `c2.to_excel` и `c3.to_excel` можно изменить название листов в отчёте **Excel**.  "
   ]
  },
  {
   "cell_type": "code",
   "execution_count": 10,
   "metadata": {},
   "outputs": [],
   "source": [
    "#Строки\n",
    "\n",
    "df=[]\n",
    "df1=[]\n",
    "df2=[]\n",
    "df3=[]\n",
    "file = 'iStar_XML.txt'\n",
    "count=1\n",
    "with open (file) as f:\n",
    "    for line in f:\n",
    "        dom_xml=ElementTree.fromstring(line)\n",
    "        type_of_report=dom_xml.find('general/type')\n",
    "        report_name=dom_xml.findall('general/title')\n",
    "        rows=dom_xml.findall('structure/rows/edges/edge/title')\n",
    "        rows2=dom_xml.findall('structure/rows/edges/edge/items/udb/structure/group/title')\n",
    "        rows3=dom_xml.findall('structure/rows/edges/edge/items/attribute/title')\n",
    "        for v in report_name:\n",
    "            for i in rows:\n",
    "                df1.append([count,type_of_report.text,v.text,i.text])\n",
    "        for v in report_name:    \n",
    "            for i in rows2:\n",
    "                df2.append([count,type_of_report.text,v.text,i.text])\n",
    "        for v in report_name:\n",
    "            for i in rows3:\n",
    "                df3.append([count,type_of_report.text,v.text,i.text])\n",
    "        count+=1\n",
    "                        \n",
    "c1=pd.DataFrame(data=np.array(df1),columns=['Номер','Тип отчёта','Название отчёта','edge_title'])\n",
    "c2=pd.DataFrame(data=np.array(df2),columns=['Номер','Тип отчёта','Название отчёта','udb_title'])\n",
    "c3=pd.DataFrame(data=np.array(df3),columns=['Номер','Тип отчёта','Название отчёта','attribute_title'])\n",
    "c1['Тип отчёта']=c1['Тип отчёта'].map(lambda x: 'audience' if x=='0' else 'duplication' )\n",
    "c2['Тип отчёта']=c2['Тип отчёта'].map(lambda x: 'audience' if x=='0' else 'duplication' )\n",
    "c3['Тип отчёта']=c3['Тип отчёта'].map(lambda x: 'audience' if x=='0' else 'duplication' )\n",
    "with pd.ExcelWriter('rows2.xlsx') as writer:  \n",
    "    c1.to_excel(writer, sheet_name='edge_title')\n",
    "    c2.to_excel(writer, sheet_name='udb_title')\n",
    "    c3.to_excel(writer, sheet_name='attribute_title')"
   ]
  },
  {
   "cell_type": "markdown",
   "metadata": {},
   "source": [
    "## Ветка структуры. Слои.\n",
    "В `file` необходимо прописать путь для файла из которого извлекаются данные. Путь должен совпадать с `iStar_XML` из 3 ячейки.  \n",
    "\n",
    "В `df1` и `df2` можно изменить имя колонок в таблице.  \n",
    "\n",
    "В `pd.ExcelWriter` прописывается путь к папке, в которой будет сохранён отчёт.  \n",
    "\n",
    "В `df1.to_excel` и `df2.to_excel` можно изменить название листов в отчёте **Excel**.   "
   ]
  },
  {
   "cell_type": "code",
   "execution_count": 11,
   "metadata": {},
   "outputs": [],
   "source": [
    "#Слои\n",
    "\n",
    "df=[]\n",
    "dff=[]\n",
    "file = 'iStar_XML.txt'\n",
    "count=1\n",
    "with open (file) as f:\n",
    "    for line in f:\n",
    "        dom_xml=ElementTree.fromstring(line)\n",
    "        type_of_report=dom_xml.find('general/type')\n",
    "        report_name=dom_xml.find('general/title')\n",
    "        planes=dom_xml.findall('structure/planes/edges/')\n",
    "        for name in planes:\n",
    "                filter2=name.findall('items/udb/structure/group/title')\n",
    "                for f2 in filter2:\n",
    "                    df.append([count,type_of_report.text,report_name.text,name.find('title').text, f2.text])\n",
    "        for name in planes:\n",
    "                dff.append([count,type_of_report.text,report_name.text,name.find('title').text])\n",
    "        count+=1\n",
    "                    \n",
    "df1=pd.DataFrame(data=np.array(df), columns=('Номер','Тип отчёта','Название отчёта','planes','planes_name'))\n",
    "df2=pd.DataFrame(data=np.array(dff), columns=('Номер','Тип отчёта','Название отчёта','planes'))\n",
    "df1['Тип отчёта']=df1['Тип отчёта'].map(lambda x: 'audience' if x=='0' else 'duplication' )\n",
    "df2['Тип отчёта']=df2['Тип отчёта'].map(lambda x: 'audience' if x=='0' else 'duplication' )\n",
    "p=df1.groupby(['planes_name']).size().reset_index(name='count')\n",
    "p['share%']=p['count']/p['count'].sum()*100\n",
    "p.sort_values('count',ascending=False, inplace=True)\n",
    "with pd.ExcelWriter('planes2.xlsx') as writer:  \n",
    "    df2.to_excel(writer, sheet_name='planes')\n",
    "    df1.to_excel(writer, sheet_name='planes_name')\n",
    "    p.to_excel(writer, sheet_name='planes_name_pivot')"
   ]
  },
  {
   "cell_type": "markdown",
   "metadata": {},
   "source": [
    "## Количество отчетов по их типу по дням недели.\n"
   ]
  },
  {
   "cell_type": "code",
   "execution_count": 79,
   "metadata": {},
   "outputs": [],
   "source": [
    "#Колонки\n",
    "df=[]\n",
    "file = 'iStar_XML.txt'\n",
    "count=1\n",
    "with open (file) as f:\n",
    "    for l in f:\n",
    "        line1,line=l.split(';:,')\n",
    "        dom_xml=ElementTree.fromstring(line)\n",
    "        type_of_report=dom_xml.find('general/type')\n",
    "        df.append([line1, type_of_report.text])\n",
    "c=pd.DataFrame(data=np.array(df),columns=['Дата','Тип отчёта'])\n",
    "c['Тип отчёта']=c['Тип отчёта'].map(lambda x: 'audience' if x=='0' else 'duplication' )\n",
    "p=c[['Дата', 'Тип отчёта']].groupby(['Тип отчёта','Дата']).size().unstack().fillna(0).reset_index()\n",
    "p\n",
    "with pd.ExcelWriter('report_type.xlsx') as writer:  \n",
    "    p.to_excel(writer, sheet_name='report_type_by_date')\n"
   ]
  },
  {
   "cell_type": "code",
   "execution_count": null,
   "metadata": {},
   "outputs": [],
   "source": []
  }
 ],
 "metadata": {
  "kernelspec": {
   "display_name": "Python 3",
   "language": "python",
   "name": "python3"
  },
  "language_info": {
   "codemirror_mode": {
    "name": "ipython",
    "version": 3
   },
   "file_extension": ".py",
   "mimetype": "text/x-python",
   "name": "python",
   "nbconvert_exporter": "python",
   "pygments_lexer": "ipython3",
   "version": "3.7.4"
  }
 },
 "nbformat": 4,
 "nbformat_minor": 2
}
