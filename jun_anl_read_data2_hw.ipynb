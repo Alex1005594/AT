{
 "cells": [
  {
   "cell_type": "markdown",
   "metadata": {},
   "source": [
    "# Чтение и запись данных. Часть 2\n",
    "\n",
    "## 1. Работа с базой данных из pandas\n"
   ]
  },
  {
   "cell_type": "markdown",
   "metadata": {},
   "source": [
    "### 1.1 \n",
    "\n",
    "Подготовка данных:"
   ]
  },
  {
   "cell_type": "code",
   "execution_count": 24,
   "metadata": {},
   "outputs": [
    {
     "name": "stdout",
     "output_type": "stream",
     "text": [
      "Какие таблицы содержатся в Postgres: [('keywords',), ('links',), ('ratings',), ('exploratory',), ('course_purchases',)]\n"
     ]
    },
    {
     "data": {
      "text/html": [
       "<div>\n",
       "<style scoped>\n",
       "    .dataframe tbody tr th:only-of-type {\n",
       "        vertical-align: middle;\n",
       "    }\n",
       "\n",
       "    .dataframe tbody tr th {\n",
       "        vertical-align: top;\n",
       "    }\n",
       "\n",
       "    .dataframe thead th {\n",
       "        text-align: right;\n",
       "    }\n",
       "</style>\n",
       "<table border=\"1\" class=\"dataframe\">\n",
       "  <thead>\n",
       "    <tr style=\"text-align: right;\">\n",
       "      <th></th>\n",
       "      <th>userid</th>\n",
       "      <th>movieid</th>\n",
       "      <th>rating</th>\n",
       "      <th>timestamp</th>\n",
       "    </tr>\n",
       "  </thead>\n",
       "  <tbody>\n",
       "    <tr>\n",
       "      <td>0</td>\n",
       "      <td>7910</td>\n",
       "      <td>61240</td>\n",
       "      <td>4.5</td>\n",
       "      <td>1368308518</td>\n",
       "    </tr>\n",
       "    <tr>\n",
       "      <td>1</td>\n",
       "      <td>7910</td>\n",
       "      <td>66934</td>\n",
       "      <td>4.0</td>\n",
       "      <td>1368308218</td>\n",
       "    </tr>\n",
       "    <tr>\n",
       "      <td>2</td>\n",
       "      <td>7910</td>\n",
       "      <td>67429</td>\n",
       "      <td>3.5</td>\n",
       "      <td>1368309174</td>\n",
       "    </tr>\n",
       "    <tr>\n",
       "      <td>3</td>\n",
       "      <td>7910</td>\n",
       "      <td>68157</td>\n",
       "      <td>2.5</td>\n",
       "      <td>1368308472</td>\n",
       "    </tr>\n",
       "    <tr>\n",
       "      <td>4</td>\n",
       "      <td>7910</td>\n",
       "      <td>68954</td>\n",
       "      <td>4.0</td>\n",
       "      <td>1368308361</td>\n",
       "    </tr>\n",
       "  </tbody>\n",
       "</table>\n",
       "</div>"
      ],
      "text/plain": [
       "   userid  movieid  rating   timestamp\n",
       "0    7910    61240     4.5  1368308518\n",
       "1    7910    66934     4.0  1368308218\n",
       "2    7910    67429     3.5  1368309174\n",
       "3    7910    68157     2.5  1368308472\n",
       "4    7910    68954     4.0  1368308361"
      ]
     },
     "execution_count": 24,
     "metadata": {},
     "output_type": "execute_result"
    }
   ],
   "source": [
    "import psycopg2\n",
    "import pandas as pd\n",
    "import sqlite3\n",
    "\n",
    "pg_connection = {\n",
    "    \"host\": \"dsstudents.skillbox.ru\",\n",
    "    \"port\": 5432,\n",
    "    \"dbname\": \"db_ds_students\",\n",
    "    \"user\": \"readonly\",\n",
    "    \"password\": \"6hajV34RTQfmxhS\"\n",
    "}\n",
    "conn = psycopg2.connect(**pg_connection)\n",
    "\n",
    "cursor = conn.cursor()\n",
    "\n",
    "# получаем имена таблиц из базы\n",
    "sql_str = \"SELECT table_name FROM information_schema.tables WHERE table_schema='public';\"\n",
    "cursor.execute(sql_str)\n",
    "tables_data = [a for a in cursor.fetchall()]\n",
    "conn.commit()\n",
    "\n",
    "print(\"Какие таблицы содержатся в Postgres: %s\" % tables_data)\n",
    "\n",
    "df = pd.read_sql_query(\"select * from public.ratings limit 5;\", conn)\n",
    "df.head()"
   ]
  },
  {
   "cell_type": "markdown",
   "metadata": {},
   "source": [
    "**Задание простого уровня** <br>Посчитайте количество записей в каждой из таблиц **keywords, links, ratings** и выведите в формате имя *таблицы:количество строк*\n",
    "\n",
    "*Результат работы:*\n",
    "<pre>\n",
    "table keywords:92838\n",
    "table links:91686\n",
    "table ratings:1555552\n",
    "</pre>"
   ]
  },
  {
   "cell_type": "code",
   "execution_count": 2,
   "metadata": {},
   "outputs": [
    {
     "name": "stdout",
     "output_type": "stream",
     "text": [
      "table keywords:92838\n",
      "table links:91686\n",
      "table ratings:1555552\n",
      "table exploratory:100\n",
      "table course_purchases:154\n"
     ]
    }
   ],
   "source": [
    "import psycopg2\n",
    "\n",
    "pg_connection = {\n",
    "    \"host\": \"dsstudents.skillbox.ru\",\n",
    "    \"port\": 5432,\n",
    "    \"dbname\": \"db_ds_students\",\n",
    "    \"user\": \"readonly\",\n",
    "    \"password\": \"6hajV34RTQfmxhS\"\n",
    "}\n",
    "conn = psycopg2.connect(**pg_connection)\n",
    "cursor = conn.cursor()\n",
    "\n",
    "table_names = [i[0] for i in tables_data]\n",
    "for table in table_names:\n",
    "        # -- ВАШ КОД ТУТ --\n",
    "        \n",
    "        sql_str = \"SELECT COUNT(*) FROM public.{} LIMIT 1;\".format(table)\n",
    "        cursor.execute(sql_str)\n",
    "        row_count = [a for a in cursor.fetchall()][0][0]\n",
    "        print(\"table {}:{}\".format(table, row_count))\n",
    "\n",
    "cursor.close()"
   ]
  },
  {
   "cell_type": "markdown",
   "metadata": {},
   "source": [
    "### 1.2\n",
    "\n",
    "**Задание среднего уровня** <br>Напечатайте колонки таблицы *ratings*. Подсказка: поисследуйте объект **cursor** с помощью встроенной в python команды *dir()*"
   ]
  },
  {
   "cell_type": "code",
   "execution_count": 30,
   "metadata": {},
   "outputs": [
    {
     "name": "stdout",
     "output_type": "stream",
     "text": [
      "Поля таблицы ratings: ['userid', 'movieid', 'rating', 'timestamp']\n"
     ]
    }
   ],
   "source": [
    "import psycopg2\n",
    "\n",
    "pg_connection = {\n",
    "    \"host\": \"dsstudents.skillbox.ru\",\n",
    "    \"port\": 5432,\n",
    "    \"dbname\": \"db_ds_students\",\n",
    "    \"user\": \"readonly\",\n",
    "    \"password\": \"6hajV34RTQfmxhS\"\n",
    "}\n",
    "conn = psycopg2.connect(**pg_connection)\n",
    "cursor = conn.cursor()\n",
    "\n",
    "sql_str = \"SELECT * FROM ratings LIMIT 10;\"\n",
    "cursor.execute(sql_str)\n",
    "conn.commit()\n",
    "\n",
    "\n",
    "# -- ВАШ КОД ТУТ --\n",
    "table_rating_fields = []\n",
    "table_rating_fields=[i[0] for i in cursor.description]\n",
    "print(\"Поля таблицы ratings: %s\" % table_rating_fields)\n",
    "cursor.close()"
   ]
  },
  {
   "cell_type": "markdown",
   "metadata": {},
   "source": [
    "### 1.3\n",
    "\n",
    "**Задание высокого уровня**\n",
    "* Посмотрите на столбцы таблицы **links** и столбцы таблицы **ratings** по какому полю можно заджойнить эти две таблицы\n",
    "* Посчитайте количество фильмов из links, у который нет оценок в ratings."
   ]
  },
  {
   "cell_type": "code",
   "execution_count": 62,
   "metadata": {},
   "outputs": [
    {
     "name": "stdout",
     "output_type": "stream",
     "text": [
      "28333\n"
     ]
    }
   ],
   "source": [
    "import psycopg2\n",
    "\n",
    "pg_connection = {\n",
    "    \"host\": \"dsstudents.skillbox.ru\",\n",
    "    \"port\": 5432,\n",
    "    \"dbname\": \"db_ds_students\",\n",
    "    \"user\": \"readonly\",\n",
    "    \"password\": \"6hajV34RTQfmxhS\"\n",
    "}\n",
    "conn = psycopg2.connect(**pg_connection)\n",
    "cursor = conn.cursor()\n",
    "\n",
    "sql_str = \"\"\"\n",
    "    SELECT COUNT(DISTINCT l.movieId)\n",
    "    FROM links l \n",
    "    LEFT JOIN ratings r ON r.movieid=l.movieid\n",
    "    WHERE r.movieid is null;\n",
    "\"\"\"\n",
    "cursor.execute(sql_str)\n",
    "conn.commit()\n",
    "print ([i for i in cursor][0][0])\n",
    "\n",
    "cursor.close()"
   ]
  },
  {
   "cell_type": "markdown",
   "metadata": {},
   "source": [
    "## 2. Работа с БД: MongoDB\n",
    "\n",
    "### 2.1\n",
    "\n",
    "Подготовка данных"
   ]
  },
  {
   "cell_type": "code",
   "execution_count": 2,
   "metadata": {},
   "outputs": [
    {
     "name": "stdout",
     "output_type": "stream",
     "text": [
      "Коллекции, доступные в MongoDB: ['tags', 'users']\n",
      "Число документов в коллекции 158680\n"
     ]
    }
   ],
   "source": [
    "from pymongo import MongoClient\n",
    "\n",
    "mongo_connection = {\n",
    "    \"host\": \"dsstudents.skillbox.ru\",\n",
    "    \"port\": 27017,\n",
    "    \"user\": \"students\",\n",
    "    \"password\": \"X63673t47Gl03Sq\",\n",
    "    \"authSource\": \"movies\"\n",
    "}\n",
    "\n",
    "mongo = MongoClient('mongodb://%s:%s@%s:%s/?authSource=%s' % (\n",
    "    mongo_connection['user'], mongo_connection['password'],\n",
    "    mongo_connection['host'], mongo_connection['port'], mongo_connection['authSource'])\n",
    ")\n",
    "db = mongo[\"movies\"]\n",
    "\n",
    "print(\"Коллекции, доступные в MongoDB: %s\" % db.list_collection_names())\n",
    "\n",
    "collection = db['tags']\n",
    "print(\"Число документов в коллекции %s\" % collection.estimated_document_count())"
   ]
  },
  {
   "cell_type": "markdown",
   "metadata": {},
   "source": [
    "**Задание простого уровня** <br>Посчитайте количество контента, у которого встречается тэг \"toy\"\n",
    "\n",
    "* сделайте выборку такого контента (а точнее - поля `id`) в питоновский `list`\n",
    "* подсчитайте количество элементов в `list`"
   ]
  },
  {
   "cell_type": "code",
   "execution_count": 8,
   "metadata": {},
   "outputs": [
    {
     "name": "stdout",
     "output_type": "stream",
     "text": [
      "Количество контента с тэгом 'toy': 19\n",
      "\n"
     ]
    }
   ],
   "source": [
    "selector = {'name': 'toy'}\n",
    "exclude_id = {'_id': False}\n",
    "\n",
    "mongo_cursor = collection.find(projection=exclude_id, filter={'name': 'toy'})\n",
    "\n",
    "# -- ВАШ КОД ТУТ --\n",
    "cursor_items = [item for item in mongo_cursor]\n",
    "print(\"Количество контента с тэгом 'toy': %s\\n\" % len(cursor_items))"
   ]
  },
  {
   "cell_type": "markdown",
   "metadata": {},
   "source": [
    "### 2.2\n",
    "\n",
    "**Задание среднего уровня** <br> Выведите **только названия** 10 самых непопулярных тэгов <br>\n",
    "\n",
    "Подсказка: посмотрите в уроке, как MongoDB позволяет также выполнять сложные агрегирующие запросы средствами СУБД\n",
    "\n",
    "*Результат работы*\n",
    "<pre>\n",
    "Счётчик тэгов ['ancient tablet', 'remains', 'robespierre', 'social scandal', 'brain implant', 'adam west', 'arm cast', 'acab', 'gas explosion', 'female psychologist']\n",
    "</pre>"
   ]
  },
  {
   "cell_type": "code",
   "execution_count": 18,
   "metadata": {},
   "outputs": [
    {
     "name": "stdout",
     "output_type": "stream",
     "text": [
      "['ancient tablet', 'remains', 'robespierre', 'social scandal', 'brain implant', 'adam west', 'arm cast', 'acab', 'gas explosion', 'female psychologist']\n"
     ]
    }
   ],
   "source": [
    "pipline = [\n",
    "    {\"$group\":\n",
    "        {\"_id\": \"$name\",\n",
    "         \"tag_count\":\n",
    "            {\"$sum\": 1}\n",
    "         }\n",
    "     },\n",
    "    {\"$sort\":\n",
    "        {\"tag_count\": 1}\n",
    "     },\n",
    "    {\"$limit\": 10}\n",
    "]\n",
    "\n",
    "print ([i['_id'] for i in collection.aggregate(pipline)])\n"
   ]
  },
  {
   "cell_type": "markdown",
   "metadata": {},
   "source": [
    "### 2.3\n",
    "\n",
    "**Задание высокого уровня**\n",
    "\n",
    "1. Подключитесь к Postgres. Найдите top-10 самого популярного контента\n",
    "1. Сохраните в файл `content_popularity.json` в виде\n",
    "<pre>\n",
    "{'movieId': 931, 'popularity': 999}\n",
    "{'movieId': 429, 'popularity': 111}\n",
    "</pre>\n",
    "\n",
    "Этот формат называется single-line json и его можно загрузить в MongoDB с помощью команды\n",
    "<pre>\n",
    "mongoimport --host $APP_MONGO_HOST --port $APP_MONGO_PORT --db movies --collection tags --file content_popularity.json\n",
    "</pre>\n",
    "\n",
    "**ВНИМАНИЕ!** Это просто пример как можно использовать single-line JSON, заливать его никуда не нужно - в задаче требуется только подготовить файл в правильном виде\n",
    "\n",
    "*Подсказка* воспользуйтесь функцией `json.dumps`\n",
    "\n",
    "*Результат работы* - файл `content_popularity.json`:\n",
    "\n",
    "<pre>\n",
    "{\"movieId\": 318, \"popularity\": 5626}\n",
    "{\"movieId\": 356, \"popularity\": 5464}\n",
    "{\"movieId\": 296, \"popularity\": 5242}\n",
    "{\"movieId\": 593, \"popularity\": 5048}\n",
    "{\"movieId\": 2571, \"popularity\": 4718}\n",
    "{\"movieId\": 260, \"popularity\": 4556}\n",
    "{\"movieId\": 480, \"popularity\": 4540}\n",
    "{\"movieId\": 527, \"popularity\": 4120}\n",
    "{\"movieId\": 1, \"popularity\": 4072}\n",
    "{\"movieId\": 110, \"popularity\": 3928}\n",
    "</pre>"
   ]
  },
  {
   "cell_type": "code",
   "execution_count": 33,
   "metadata": {},
   "outputs": [
    {
     "name": "stdout",
     "output_type": "stream",
     "text": [
      "{\"movieid\": 318, \"popularity\": 5626}\n",
      "{\"movieid\": 356, \"popularity\": 5464}\n",
      "{\"movieid\": 296, \"popularity\": 5242}\n",
      "{\"movieid\": 593, \"popularity\": 5048}\n",
      "{\"movieid\": 2571, \"popularity\": 4718}\n",
      "{\"movieid\": 260, \"popularity\": 4556}\n",
      "{\"movieid\": 480, \"popularity\": 4540}\n",
      "{\"movieid\": 527, \"popularity\": 4120}\n",
      "{\"movieid\": 1, \"popularity\": 4072}\n",
      "{\"movieid\": 110, \"popularity\": 3928}\n"
     ]
    }
   ],
   "source": [
    "import psycopg2\n",
    "import json\n",
    "pg_connection = {\n",
    "    \"host\": \"dsstudents.skillbox.ru\",\n",
    "    \"port\": 5432,\n",
    "    \"dbname\": \"db_ds_students\",\n",
    "    \"user\": \"readonly\",\n",
    "    \"password\": \"6hajV34RTQfmxhS\"\n",
    "}\n",
    "conn = psycopg2.connect(**pg_connection)\n",
    "cursor = conn.cursor()\n",
    "sql_str=\"\"\"select movieId, count(movieId) \n",
    "     from ratings group by movieId order by count(movieId) desc LIMIT 10;\"\"\"\n",
    "cursor.execute(sql_str)\n",
    "conn.commit()\n",
    "\n",
    "    \n",
    "with open(\"content_popularity.json\", \"w\") as file:\n",
    "    for c in cursor:\n",
    "        row_dict = {\"movieid\": c[0], \"popularity\": c[1]}\n",
    "        popular_json = json.dumps(row_dict)\n",
    "        print(popular_json)\n",
    "        file.write(popular_json)"
   ]
  },
  {
   "cell_type": "code",
   "execution_count": null,
   "metadata": {},
   "outputs": [],
   "source": []
  }
 ],
 "metadata": {
  "kernelspec": {
   "display_name": "Python 3",
   "language": "python",
   "name": "python3"
  },
  "language_info": {
   "codemirror_mode": {
    "name": "ipython",
    "version": 3
   },
   "file_extension": ".py",
   "mimetype": "text/x-python",
   "name": "python",
   "nbconvert_exporter": "python",
   "pygments_lexer": "ipython3",
   "version": "3.7.4"
  }
 },
 "nbformat": 4,
 "nbformat_minor": 2
}
